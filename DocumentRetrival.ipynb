{
  "nbformat": 4,
  "nbformat_minor": 0,
  "metadata": {
    "colab": {
      "name": "DocumentRetrival.ipynb",
      "provenance": [],
      "collapsed_sections": [],
      "mount_file_id": "1XXbtvBcXB1AyLbqHMAQRDGXeEbAGffQW",
      "authorship_tag": "ABX9TyOrzX+Awuj4879bYGz5G5mk",
      "include_colab_link": true
    },
    "kernelspec": {
      "name": "python3",
      "display_name": "Python 3"
    },
    "accelerator": "GPU"
  },
  "cells": [
    {
      "cell_type": "markdown",
      "metadata": {
        "id": "view-in-github",
        "colab_type": "text"
      },
      "source": [
        "<a href=\"https://colab.research.google.com/github/gysdnow/NLPWorks/blob/master/DocumentRetrival.ipynb\" target=\"_parent\"><img src=\"https://colab.research.google.com/assets/colab-badge.svg\" alt=\"Open In Colab\"/></a>"
      ]
    },
    {
      "cell_type": "markdown",
      "metadata": {
        "id": "tn4geBvQUt-6",
        "colab_type": "text"
      },
      "source": [
        "# Information Retrieval\n",
        "> [Simple Applications of BERT for Ad Hoc Document Retrieval](https://arxiv.org/pdf/1903.10972.pdf)\n",
        "\n",
        "論文操作方式:\n",
        "\n",
        "分別對文章中的每一個句子，計算出與 Query 的相似度分數，組合成**這篇文章**對於該 **Query** 的分數。如:<br />\n",
        "\n",
        "\n",
        "| **Query**|「提高酒駕罰責」|\n",
        "|:-|-|\n",
        "|**Sentences**|1:我覺得可提高罰金這樣可嚇阻愛酒後開車的人,<br /><br />2:不過關1天就受不了<br /><br />3:'沒肇事3天有點長'<br /><br />4:'我認為可提高罰金處罰'<br />|\n",
        "|**相似度(範例)**|1:0.75<br /><br />2:0.13<br /><br />3:0.11<br /><br />4:0.91<br />|\n",
        "|**文本相似度** | 0.475|\n",
        "\n",
        "---\n",
        "##實作步驟\n",
        "1.對台灣新聞資料清整、斷句\n",
        "\n",
        "2.藉由[假新聞分類訓練資料集](https://www.kaggle.com/c/fake-news-pair-classification-challenge/data)Fine-Tune BERT Model\n",
        "> 由於無法 Label 每個句子的相關性。<br />\n",
        "> 故利用此資料集訓練 BERT，再回頭判斷原資料集的資料\n",
        "\n",
        "3.用 Fine-Tune後的 Model，預測 原資料集中 Query 和 Sentences 的關係\n",
        "\n",
        "4.按照各句的index aggregate 回原文。\n",
        "\n",
        "5.比較 label 和 average prediction 的 差異 \n",
        "\n",
        "---\n",
        "\n",
        "##結論\n",
        "1.需要更乾淨的資料集來訓練模型\n",
        "> \n",
        "2.Query 與 句子 的相關性Label 與預測結果相符\n",
        "\n",
        "3.Query 與 句子 的支持程度 不太明顯\n",
        "- unrelate 與 (agree + disagree) 的區別程度不高<br />\n",
        "- 新聞資料的 Relevance 定義不清，似乎包含支持度資訊<br />(0為相關但不支持,<br /> 1的相關與支持分數都最低)\n",
        "\n",
        "4.支持度可用 相關句 / 總句數\n",
        "\n",
        "\n",
        "\n",
        "\n",
        "\n",
        "---\n",
        "##相關名詞\n",
        "- TREC : Text REtrival Conference\n",
        "- ad Hoc : 備查資料庫穩定，使用者查詢需求多變，像圖書館查詢的方式。 \n",
        "- Filtering : 根據使用者查詢內容分群，找出使用者的喜好以推送內容\n",
        "\n"
      ]
    },
    {
      "cell_type": "markdown",
      "metadata": {
        "id": "rEiMrS4FNIvi",
        "colab_type": "text"
      },
      "source": [
        "# 載入檔案 **台灣新聞資料**"
      ]
    },
    {
      "cell_type": "code",
      "metadata": {
        "id": "HmGzN8LkUt1t",
        "colab_type": "code",
        "outputId": "4b34a767-a933-4a04-cb78-2a2c84298a36",
        "colab": {
          "base_uri": "https://localhost:8080/",
          "height": 436
        }
      },
      "source": [
        "!pip install jieba -q\n",
        "!pip install transformers -q\n",
        "from google.colab import drive\n",
        "drive.mount('/content/drive')\n",
        "\n",
        "import pandas as  pd\n",
        "import jieba.analyse\n",
        "\n",
        "#Colab PATH\n",
        "path = '/content/drive/My Drive/Colab Notebooks/'\n",
        "#Local PATH\n",
        "#PATH = './'\n",
        "_df = pd.read_csv(path + 'Newstrain.csv')\n",
        "#_df.columns = ['text_a','text_b','label']\n",
        "_df"
      ],
      "execution_count": 116,
      "outputs": [
        {
          "output_type": "stream",
          "text": [
            "Drive already mounted at /content/drive; to attempt to forcibly remount, call drive.mount(\"/content/drive\", force_remount=True).\n"
          ],
          "name": "stdout"
        },
        {
          "output_type": "execute_result",
          "data": {
            "text/html": [
              "<div>\n",
              "<style scoped>\n",
              "    .dataframe tbody tr th:only-of-type {\n",
              "        vertical-align: middle;\n",
              "    }\n",
              "\n",
              "    .dataframe tbody tr th {\n",
              "        vertical-align: top;\n",
              "    }\n",
              "\n",
              "    .dataframe thead th {\n",
              "        text-align: right;\n",
              "    }\n",
              "</style>\n",
              "<table border=\"1\" class=\"dataframe\">\n",
              "  <thead>\n",
              "    <tr style=\"text-align: right;\">\n",
              "      <th></th>\n",
              "      <th>query</th>\n",
              "      <th>news</th>\n",
              "      <th>relevance</th>\n",
              "    </tr>\n",
              "  </thead>\n",
              "  <tbody>\n",
              "    <tr>\n",
              "      <th>0</th>\n",
              "      <td>支持陳前總統保外就醫</td>\n",
              "      <td>前總統陳水扁律師團今天說，法務部若依醫療鑑定小組認定，准扁保外就醫，重視醫療人權，在國際能見...</td>\n",
              "      <td>2</td>\n",
              "    </tr>\n",
              "    <tr>\n",
              "      <th>1</th>\n",
              "      <td>支持陳前總統保外就醫</td>\n",
              "      <td>2014.12.05，大家晚安！每天晚間為您彙整夜線最讚新聞，一起來看看今天的夜線最讚新聞有...</td>\n",
              "      <td>1</td>\n",
              "    </tr>\n",
              "    <tr>\n",
              "      <th>2</th>\n",
              "      <td>支持陳前總統保外就醫</td>\n",
              "      <td>針對法務部昨（8）日指若前總統陳水扁近半年病情確有變化，可再次提出保外就醫聲請，民主進步黨發...</td>\n",
              "      <td>3</td>\n",
              "    </tr>\n",
              "    <tr>\n",
              "      <th>3</th>\n",
              "      <td>支持陳前總統保外就醫</td>\n",
              "      <td>前總統陳水扁申請重回民進黨，因爭議過大，受理的台北市黨部昨日以「逕送中央」方式，表達拒審態度...</td>\n",
              "      <td>1</td>\n",
              "    </tr>\n",
              "    <tr>\n",
              "      <th>4</th>\n",
              "      <td>支持陳前總統保外就醫</td>\n",
              "      <td>高雄市政府今天舉行升旗典禮，市長陳菊呼籲，法務部矯正署盡速完成應做的行政程序，讓前總統陳水扁...</td>\n",
              "      <td>3</td>\n",
              "    </tr>\n",
              "    <tr>\n",
              "      <th>...</th>\n",
              "      <td>...</td>\n",
              "      <td>...</td>\n",
              "      <td>...</td>\n",
              "    </tr>\n",
              "    <tr>\n",
              "      <th>3512</th>\n",
              "      <td>臺灣應開放含瘦肉精(萊克多巴胺)之美國牛肉進口</td>\n",
              "      <td>經濟部長施顏祥日前表示，只要美牛問題一日不解，台美就難以啟動ＴＩＦＡ（台美貿易暨投資架構協定...</td>\n",
              "      <td>0</td>\n",
              "    </tr>\n",
              "    <tr>\n",
              "      <th>3513</th>\n",
              "      <td>臺灣應開放含瘦肉精(萊克多巴胺)之美國牛肉進口</td>\n",
              "      <td>立法院明天將召開臨時會，處理美牛問題。執政黨有人數優勢，只要下定決心，當然會過關。但是，這一...</td>\n",
              "      <td>0</td>\n",
              "    </tr>\n",
              "    <tr>\n",
              "      <th>3514</th>\n",
              "      <td>臺灣應開放含瘦肉精(萊克多巴胺)之美國牛肉進口</td>\n",
              "      <td>記者鄒景雯／特稿看到昨天的就職大典，國民黨菁英與立委們真要好好思忖︰「隨人顧性命」這句俗諺的...</td>\n",
              "      <td>0</td>\n",
              "    </tr>\n",
              "    <tr>\n",
              "      <th>3515</th>\n",
              "      <td>臺灣應開放含瘦肉精(萊克多巴胺)之美國牛肉進口</td>\n",
              "      <td>行政院日昨宣布有條件開放含瘦肉精的美牛進口，將採取「牛豬分離」等四項原則，不過國內養牛養豬業...</td>\n",
              "      <td>0</td>\n",
              "    </tr>\n",
              "    <tr>\n",
              "      <th>3516</th>\n",
              "      <td>臺灣應開放含瘦肉精(萊克多巴胺)之美國牛肉進口</td>\n",
              "      <td>〔記者謝銀仲／新港報導〕嘉義縣養豬協會表達「反對瘦肉精解禁」訴求，三月八日將動員上千人北上抗...</td>\n",
              "      <td>0</td>\n",
              "    </tr>\n",
              "  </tbody>\n",
              "</table>\n",
              "<p>3517 rows × 3 columns</p>\n",
              "</div>"
            ],
            "text/plain": [
              "                        query  ... relevance\n",
              "0                  支持陳前總統保外就醫  ...         2\n",
              "1                  支持陳前總統保外就醫  ...         1\n",
              "2                  支持陳前總統保外就醫  ...         3\n",
              "3                  支持陳前總統保外就醫  ...         1\n",
              "4                  支持陳前總統保外就醫  ...         3\n",
              "...                       ...  ...       ...\n",
              "3512  臺灣應開放含瘦肉精(萊克多巴胺)之美國牛肉進口  ...         0\n",
              "3513  臺灣應開放含瘦肉精(萊克多巴胺)之美國牛肉進口  ...         0\n",
              "3514  臺灣應開放含瘦肉精(萊克多巴胺)之美國牛肉進口  ...         0\n",
              "3515  臺灣應開放含瘦肉精(萊克多巴胺)之美國牛肉進口  ...         0\n",
              "3516  臺灣應開放含瘦肉精(萊克多巴胺)之美國牛肉進口  ...         0\n",
              "\n",
              "[3517 rows x 3 columns]"
            ]
          },
          "metadata": {
            "tags": []
          },
          "execution_count": 116
        }
      ]
    },
    {
      "cell_type": "markdown",
      "metadata": {
        "id": "TNI3H1j1pB-o",
        "colab_type": "text"
      },
      "source": [
        "#資料清整\n",
        "為使長文能夠順利斷句，故先將各式符號都轉換為全形逗號 '，'<Br />\n"
      ]
    },
    {
      "cell_type": "code",
      "metadata": {
        "id": "l_5EN19Lj0wn",
        "colab_type": "code",
        "colab": {}
      },
      "source": [
        "def trim_text(text):\n",
        "  character = [\",\",\"。\",\"？\",\".\",\"；\",\"、\",\"！\", \"●\",\"★\",\"：\",\"．\"]\n",
        "  for c in character:\n",
        "    text = text.replace(c, \"，\")\n",
        "  return text\n",
        "_df['trimed_text'] = _df.news.apply(trim_text)"
      ],
      "execution_count": 0,
      "outputs": []
    },
    {
      "cell_type": "markdown",
      "metadata": {
        "id": "JBu2iqGvpS0l",
        "colab_type": "text"
      },
      "source": [
        "## 檢查斷句後的句子分布狀況\n",
        "\n",
        "1.長句子多半因為有英文參雜其中<br />\n",
        "2.不替換括號、角括號是因為，會使部分句子過短<br />\n",
        "如（荷蘭舉行）(主) (客)（ＦＴＡ）（四十七歲）...<br />\n",
        "會因無關句子增加，而稀釋文本的相關性"
      ]
    },
    {
      "cell_type": "code",
      "metadata": {
        "id": "rZ3EWS6IlX4F",
        "colab_type": "code",
        "outputId": "ca2eaebb-f4ac-4993-fb9f-2722be034216",
        "colab": {
          "base_uri": "https://localhost:8080/",
          "height": 282
        }
      },
      "source": [
        "sentences=[]\n",
        "for x in _df.trimed_text:\n",
        "  sentences +=(x.split('，'))\n",
        "sentences_df = pd.DataFrame(sentences)\n",
        "sentences_df[0].str.len().value_counts().sort_index().plot()"
      ],
      "execution_count": 118,
      "outputs": [
        {
          "output_type": "execute_result",
          "data": {
            "text/plain": [
              "<matplotlib.axes._subplots.AxesSubplot at 0x7fd1f8165b70>"
            ]
          },
          "metadata": {
            "tags": []
          },
          "execution_count": 118
        },
        {
          "output_type": "display_data",
          "data": {
            "image/png": "[encoded data removed]",
            "text/plain": [
              "<Figure size 432x288 with 1 Axes>"
            ]
          },
          "metadata": {
            "tags": [],
            "needs_background": "light"
          }
        }
      ]
    },
    {
      "cell_type": "markdown",
      "metadata": {
        "id": "Uw80yLnUIjJx",
        "colab_type": "text"
      },
      "source": [
        "## 將文章按照標點符號拆成句子"
      ]
    },
    {
      "cell_type": "code",
      "metadata": {
        "id": "GnqoHF0dzDT7",
        "colab_type": "code",
        "outputId": "b34e9242-35ad-44e4-c84d-976665b2a2db",
        "colab": {
          "base_uri": "https://localhost:8080/",
          "height": 359
        }
      },
      "source": [
        "def split_sentence(_df):\n",
        "  sentences_pair = []\n",
        "  for x in _df.iterrows():\n",
        "    for s in x[1]['trimed_text'].split('，'):\n",
        "      sentence = s\n",
        "      query = x[1]['query']\n",
        "      relevance = x[1]['relevance']\n",
        "      idx = x[0]\n",
        "      sentences_pair.append([query,sentence,relevance,idx])\n",
        "  col_names = ['query','sentence','idx','relevance']\n",
        "  return pd.DataFrame(sentences_pair,columns=col_names)\n",
        "\n",
        "target_df = split_sentence(_df)\n",
        "\n",
        "empty_title = ((target_df['query'].isnull()) \\\n",
        "               | (target_df['sentence'].isnull()) \\\n",
        "               | (target_df['sentence'] == '') \\\n",
        "               | (target_df['sentence'] == '0')) \\\n",
        "               | (target_df['sentence'].str.len() > 100)\n",
        "target_df = target_df[~empty_title]\n",
        "\n",
        "target_df.sample(10)"
      ],
      "execution_count": 119,
      "outputs": [
        {
          "output_type": "execute_result",
          "data": {
            "text/html": [
              "<div>\n",
              "<style scoped>\n",
              "    .dataframe tbody tr th:only-of-type {\n",
              "        vertical-align: middle;\n",
              "    }\n",
              "\n",
              "    .dataframe tbody tr th {\n",
              "        vertical-align: top;\n",
              "    }\n",
              "\n",
              "    .dataframe thead th {\n",
              "        text-align: right;\n",
              "    }\n",
              "</style>\n",
              "<table border=\"1\" class=\"dataframe\">\n",
              "  <thead>\n",
              "    <tr style=\"text-align: right;\">\n",
              "      <th></th>\n",
              "      <th>query</th>\n",
              "      <th>sentence</th>\n",
              "      <th>idx</th>\n",
              "      <th>relevance</th>\n",
              "    </tr>\n",
              "  </thead>\n",
              "  <tbody>\n",
              "    <tr>\n",
              "      <th>89011</th>\n",
              "      <td>贊同課綱微調</td>\n",
              "      <td>民進黨及獨派媒體誓死反對</td>\n",
              "      <td>1</td>\n",
              "      <td>1446</td>\n",
              "    </tr>\n",
              "    <tr>\n",
              "      <th>64384</th>\n",
              "      <td>國際賽事會場內應該可以持中華民國國旗</td>\n",
              "      <td>神采奕奕熱烈的歡迎歸來的跑者</td>\n",
              "      <td>1</td>\n",
              "      <td>1022</td>\n",
              "    </tr>\n",
              "    <tr>\n",
              "      <th>119411</th>\n",
              "      <td>十二年國教高中職「免學費補助」適用對象增加是不對的</td>\n",
              "      <td>王建煊日前與媒體茶敘表示</td>\n",
              "      <td>1</td>\n",
              "      <td>1951</td>\n",
              "    </tr>\n",
              "    <tr>\n",
              "      <th>6426</th>\n",
              "      <td>支持陳前總統保外就醫</td>\n",
              "      <td>扁罹患冠心症</td>\n",
              "      <td>0</td>\n",
              "      <td>126</td>\n",
              "    </tr>\n",
              "    <tr>\n",
              "      <th>45763</th>\n",
              "      <td>國際賽事會場內應該可以持中華民國國旗</td>\n",
              "      <td>即將出任中華民國駐美代表的沈呂巡是清末兩江總督沈葆禎及欽差大臣林則徐的後人</td>\n",
              "      <td>1</td>\n",
              "      <td>726</td>\n",
              "    </tr>\n",
              "    <tr>\n",
              "      <th>48330</th>\n",
              "      <td>國際賽事會場內應該可以持中華民國國旗</td>\n",
              "      <td>葛姐身為台灣人</td>\n",
              "      <td>1</td>\n",
              "      <td>774</td>\n",
              "    </tr>\n",
              "    <tr>\n",
              "      <th>67710</th>\n",
              "      <td>國際賽事會場內應該可以持中華民國國旗</td>\n",
              "      <td>體育歸體育」的原則</td>\n",
              "      <td>1</td>\n",
              "      <td>1075</td>\n",
              "    </tr>\n",
              "    <tr>\n",
              "      <th>53676</th>\n",
              "      <td>國際賽事會場內應該可以持中華民國國旗</td>\n",
              "      <td>會不會變成恐怖份子</td>\n",
              "      <td>2</td>\n",
              "      <td>865</td>\n",
              "    </tr>\n",
              "    <tr>\n",
              "      <th>172610</th>\n",
              "      <td>應該提高酒駕罰責以有效遏制酒駕</td>\n",
              "      <td>還有附議人出席</td>\n",
              "      <td>2</td>\n",
              "      <td>2792</td>\n",
              "    </tr>\n",
              "    <tr>\n",
              "      <th>173347</th>\n",
              "      <td>應該提高酒駕罰責以有效遏制酒駕</td>\n",
              "      <td>(中時)</td>\n",
              "      <td>1</td>\n",
              "      <td>2806</td>\n",
              "    </tr>\n",
              "  </tbody>\n",
              "</table>\n",
              "</div>"
            ],
            "text/plain": [
              "                            query  ... relevance\n",
              "89011                      贊同課綱微調  ...      1446\n",
              "64384          國際賽事會場內應該可以持中華民國國旗  ...      1022\n",
              "119411  十二年國教高中職「免學費補助」適用對象增加是不對的  ...      1951\n",
              "6426                   支持陳前總統保外就醫  ...       126\n",
              "45763          國際賽事會場內應該可以持中華民國國旗  ...       726\n",
              "48330          國際賽事會場內應該可以持中華民國國旗  ...       774\n",
              "67710          國際賽事會場內應該可以持中華民國國旗  ...      1075\n",
              "53676          國際賽事會場內應該可以持中華民國國旗  ...       865\n",
              "172610            應該提高酒駕罰責以有效遏制酒駕  ...      2792\n",
              "173347            應該提高酒駕罰責以有效遏制酒駕  ...      2806\n",
              "\n",
              "[10 rows x 4 columns]"
            ]
          },
          "metadata": {
            "tags": []
          },
          "execution_count": 119
        }
      ]
    },
    {
      "cell_type": "markdown",
      "metadata": {
        "id": "8Zu3MBQqJCnI",
        "colab_type": "text"
      },
      "source": [
        "## 總句數約十四萬"
      ]
    },
    {
      "cell_type": "code",
      "metadata": {
        "id": "WyohY0xkG_kk",
        "colab_type": "code",
        "outputId": "8f41dd6d-f925-467d-c067-2bf32003d5c8",
        "colab": {
          "base_uri": "https://localhost:8080/",
          "height": 102
        }
      },
      "source": [
        "target_df.count()"
      ],
      "execution_count": 120,
      "outputs": [
        {
          "output_type": "execute_result",
          "data": {
            "text/plain": [
              "query        215167\n",
              "sentence     215167\n",
              "idx          215167\n",
              "relevance    215167\n",
              "dtype: int64"
            ]
          },
          "metadata": {
            "tags": []
          },
          "execution_count": 120
        }
      ]
    },
    {
      "cell_type": "markdown",
      "metadata": {
        "id": "q9PgtilEcoB2",
        "colab_type": "text"
      },
      "source": [
        "## 存檔備用"
      ]
    },
    {
      "cell_type": "code",
      "metadata": {
        "id": "sw2S40TgYpX0",
        "colab_type": "code",
        "colab": {}
      },
      "source": [
        "target_df.columns = ['text_a','text_b','label','idx']\n",
        "target_df.to_csv('./test_ir_data.tsv', index=False, sep='\\t', encoding='utf-8')"
      ],
      "execution_count": 0,
      "outputs": []
    },
    {
      "cell_type": "markdown",
      "metadata": {
        "id": "YhYBK91KKJjf",
        "colab_type": "text"
      },
      "source": [
        "# BERT 訓練資料 **FakeNews**"
      ]
    },
    {
      "cell_type": "code",
      "metadata": {
        "id": "o_i-FrV0HhMt",
        "colab_type": "code",
        "colab": {
          "base_uri": "https://localhost:8080/",
          "height": 221
        },
        "outputId": "fc7e4685-02a4-418d-a097-4b3d4d1c4f80"
      },
      "source": [
        "df_train = pd.read_csv(path + \"fakenews_train.csv\")\n",
        "empty_title = ((df_train['title2_zh'].isnull()) \\\n",
        "               | (df_train['title1_zh'].isnull()) \\\n",
        "               | (df_train['title2_zh'] == '') \\\n",
        "               | (df_train['title2_zh'] == '0'))\n",
        "df_train = df_train[~empty_title]\n",
        "\n",
        "# 剔除過長的樣本以避免 BERT 無法將整個輸入序列放入記憶體不多的 GPU\n",
        "MAX_LENGTH = 30\n",
        "df_train = df_train[~(df_train.title1_zh.apply(lambda x : len(x)) > MAX_LENGTH)]\n",
        "df_train = df_train[~(df_train.title2_zh.apply(lambda x : len(x)) > MAX_LENGTH)]\n",
        "\n",
        "# 去除不必要的欄位並重新命名兩標題的欄位名\n",
        "df_train = df_train.reset_index()\n",
        "df_train = df_train.loc[:, ['title1_zh', 'title2_zh', 'label']]\n",
        "df_train.columns = ['text_a', 'text_b', 'label']\n",
        "\n",
        "print(\"訓練樣本數：\", len(df_train))\n",
        "df_train.head()"
      ],
      "execution_count": 122,
      "outputs": [
        {
          "output_type": "stream",
          "text": [
            "訓練樣本數： 265693\n"
          ],
          "name": "stdout"
        },
        {
          "output_type": "execute_result",
          "data": {
            "text/html": [
              "<div>\n",
              "<style scoped>\n",
              "    .dataframe tbody tr th:only-of-type {\n",
              "        vertical-align: middle;\n",
              "    }\n",
              "\n",
              "    .dataframe tbody tr th {\n",
              "        vertical-align: top;\n",
              "    }\n",
              "\n",
              "    .dataframe thead th {\n",
              "        text-align: right;\n",
              "    }\n",
              "</style>\n",
              "<table border=\"1\" class=\"dataframe\">\n",
              "  <thead>\n",
              "    <tr style=\"text-align: right;\">\n",
              "      <th></th>\n",
              "      <th>text_a</th>\n",
              "      <th>text_b</th>\n",
              "      <th>label</th>\n",
              "    </tr>\n",
              "  </thead>\n",
              "  <tbody>\n",
              "    <tr>\n",
              "      <th>0</th>\n",
              "      <td>2017养老保险又新增两项，农村老人人人可申领，你领到了吗</td>\n",
              "      <td>警方辟谣“鸟巢大会每人领5万” 仍有老人坚持进京</td>\n",
              "      <td>unrelated</td>\n",
              "    </tr>\n",
              "    <tr>\n",
              "      <th>1</th>\n",
              "      <td>\"用大蒜鉴别地沟油的方法,怎么鉴别地沟油</td>\n",
              "      <td>吃了30年食用油才知道，一片大蒜轻松鉴别地沟油</td>\n",
              "      <td>agreed</td>\n",
              "    </tr>\n",
              "    <tr>\n",
              "      <th>2</th>\n",
              "      <td>\"吃榴莲的禁忌,吃错会致命!</td>\n",
              "      <td>榴莲不能和什么一起吃 与咖啡同吃诱发心脏病\"\"</td>\n",
              "      <td>unrelated</td>\n",
              "    </tr>\n",
              "    <tr>\n",
              "      <th>3</th>\n",
              "      <td>\"用大蒜鉴别地沟油的方法,怎么鉴别地沟油</td>\n",
              "      <td>一颗大蒜就能鉴别地沟油？别闹了！做到下面几点，让您远离地沟油</td>\n",
              "      <td>agreed</td>\n",
              "    </tr>\n",
              "    <tr>\n",
              "      <th>4</th>\n",
              "      <td>\"用大蒜鉴别地沟油的方法,怎么鉴别地沟油</td>\n",
              "      <td>用一颗大蒜鉴别地沟油,非常实用!\"</td>\n",
              "      <td>agreed</td>\n",
              "    </tr>\n",
              "  </tbody>\n",
              "</table>\n",
              "</div>"
            ],
            "text/plain": [
              "                           text_a                          text_b      label\n",
              "0   2017养老保险又新增两项，农村老人人人可申领，你领到了吗        警方辟谣“鸟巢大会每人领5万” 仍有老人坚持进京  unrelated\n",
              "1            \"用大蒜鉴别地沟油的方法,怎么鉴别地沟油         吃了30年食用油才知道，一片大蒜轻松鉴别地沟油     agreed\n",
              "2                  \"吃榴莲的禁忌,吃错会致命!         榴莲不能和什么一起吃 与咖啡同吃诱发心脏病\"\"  unrelated\n",
              "3            \"用大蒜鉴别地沟油的方法,怎么鉴别地沟油  一颗大蒜就能鉴别地沟油？别闹了！做到下面几点，让您远离地沟油     agreed\n",
              "4            \"用大蒜鉴别地沟油的方法,怎么鉴别地沟油               用一颗大蒜鉴别地沟油,非常实用!\"     agreed"
            ]
          },
          "metadata": {
            "tags": []
          },
          "execution_count": 122
        }
      ]
    },
    {
      "cell_type": "markdown",
      "metadata": {
        "id": "fOaD0lPwfhV6",
        "colab_type": "text"
      },
      "source": [
        "## 檢查訓練資料Label分布"
      ]
    },
    {
      "cell_type": "code",
      "metadata": {
        "id": "WIvikWYKxvho",
        "colab_type": "code",
        "colab": {
          "base_uri": "https://localhost:8080/",
          "height": 322
        },
        "outputId": "11361f90-5ebf-4c66-98d8-5f14465fc848"
      },
      "source": [
        "df_train.label.value_counts().plot(kind='bar')"
      ],
      "execution_count": 123,
      "outputs": [
        {
          "output_type": "execute_result",
          "data": {
            "text/plain": [
              "<matplotlib.axes._subplots.AxesSubplot at 0x7fd1f808f4e0>"
            ]
          },
          "metadata": {
            "tags": []
          },
          "execution_count": 123
        },
        {
          "output_type": "display_data",
          "data": {
            "image/png": "[encoded data removed]",
            "text/plain": [
              "<Figure size 432x288 with 1 Axes>"
            ]
          },
          "metadata": {
            "tags": [],
            "needs_background": "light"
          }
        }
      ]
    },
    {
      "cell_type": "markdown",
      "metadata": {
        "id": "N14zNs0Kf8Vw",
        "colab_type": "text"
      },
      "source": [
        "## 調整訓練集資料分布"
      ]
    },
    {
      "cell_type": "code",
      "metadata": {
        "id": "cnl0AZvklcEy",
        "colab_type": "code",
        "colab": {}
      },
      "source": [
        "unrelated = df_train[df_train.label=='unrelated'].sample(15000)\n",
        "agreed = df_train[df_train.label=='agreed'].sample(12000)\n",
        "disagreed = df_train[df_train.label=='disagreed']\n",
        "df_train = pd.concat([agreed,disagreed,unrelated]).reset_index(drop=True)"
      ],
      "execution_count": 0,
      "outputs": []
    },
    {
      "cell_type": "code",
      "metadata": {
        "id": "XrmVLk1r31PO",
        "colab_type": "code",
        "colab": {
          "base_uri": "https://localhost:8080/",
          "height": 322
        },
        "outputId": "839f4243-a3b5-48c7-836c-94fe03f71726"
      },
      "source": [
        "df_train.label.value_counts().plot(kind='bar')"
      ],
      "execution_count": 125,
      "outputs": [
        {
          "output_type": "execute_result",
          "data": {
            "text/plain": [
              "<matplotlib.axes._subplots.AxesSubplot at 0x7fd1f808f048>"
            ]
          },
          "metadata": {
            "tags": []
          },
          "execution_count": 125
        },
        {
          "output_type": "display_data",
          "data": {
            "image/png": "[encoded data removed]",
            "text/plain": [
              "<Figure size 432x288 with 1 Axes>"
            ]
          },
          "metadata": {
            "tags": [],
            "needs_background": "light"
          }
        }
      ]
    },
    {
      "cell_type": "markdown",
      "metadata": {
        "id": "GCRdco64gH0p",
        "colab_type": "text"
      },
      "source": [
        "## 存檔備用"
      ]
    },
    {
      "cell_type": "code",
      "metadata": {
        "id": "LcRfz0oRq23C",
        "colab_type": "code",
        "colab": {}
      },
      "source": [
        "from sklearn.model_selection import train_test_split\n",
        "train_data, valid_data = train_test_split(df_train, random_state=777, train_size=0.8)\n",
        "#存檔\n",
        "train_data.to_csv('./train_ir_data.tsv', index=False, sep='\\t', encoding='utf-8')\n",
        "valid_data.to_csv('./valid_ir_data.tsv', index=False, sep='\\t', encoding='utf-8')"
      ],
      "execution_count": 0,
      "outputs": []
    },
    {
      "cell_type": "markdown",
      "metadata": {
        "id": "zYxtJ6aRgKc9",
        "colab_type": "text"
      },
      "source": [
        "## 資料集分別筆數\n",
        "訓練集 27275\n",
        "\n",
        "驗證集 6819\n",
        "\n",
        "測試集 143989\n"
      ]
    },
    {
      "cell_type": "code",
      "metadata": {
        "id": "rqCH6XVFQszZ",
        "colab_type": "code",
        "colab": {
          "base_uri": "https://localhost:8080/",
          "height": 34
        },
        "outputId": "918170a2-57e5-4039-d20b-7c8134d6d5a1"
      },
      "source": [
        "print(len(train_data),len(valid_data),len(target_df))"
      ],
      "execution_count": 127,
      "outputs": [
        {
          "output_type": "stream",
          "text": [
            "27275 6819 215167\n"
          ],
          "name": "stdout"
        }
      ]
    },
    {
      "cell_type": "markdown",
      "metadata": {
        "id": "ga5fX7O2giu4",
        "colab_type": "text"
      },
      "source": [
        "## 資料集讀取Function"
      ]
    },
    {
      "cell_type": "code",
      "metadata": {
        "id": "HsEhCzgHwAy5",
        "colab_type": "code",
        "colab": {}
      },
      "source": [
        "import torch\n",
        "from torch.utils.data import Dataset\n",
        "from transformers import BertTokenizer\n",
        "from IPython.display import clear_output\n",
        "PRETRAINED_MODEL_NAME = \"bert-base-chinese\"  # 指定繁簡中文 BERT-BASE 預訓練模型\n",
        "# 取得此預訓練模型所使用的 tokenizer\n",
        "tokenizer = BertTokenizer.from_pretrained(PRETRAINED_MODEL_NAME)\n",
        "class IRDataset(Dataset):\n",
        "    # 讀取前處理後的 tsv 檔並初始化一些參數\n",
        "    def __init__(self, mode, tokenizer):\n",
        "        assert mode in [\"train\", \"valid\", \"test\"]  # 一般訓練你會需要 dev set\n",
        "        self.mode = mode\n",
        "        # 大數據你會需要用 iterator=True\n",
        "        self.df = pd.read_csv( mode + \"_ir_data.tsv\",sep='\\t').fillna(\"\")\n",
        "        self.len = len(self.df)\n",
        "        self.label_map = {'agreed': 0, 'disagreed': 1, 'unrelated': 2}\n",
        "        self.tokenizer = tokenizer  # 我們將使用 BERT tokenizer\n",
        "    \n",
        "    # 定義回傳一筆訓練 / 測試數據的函式\n",
        "    def __getitem__(self, idx):\n",
        "        if self.mode == \"train\":\n",
        "          text_a, text_b, label  = self.df.iloc[idx, :].values\n",
        "          # 將 label 文字也轉換成索引方便轉換成 tensor\n",
        "          label_id = self.label_map[label]\n",
        "          label_tensor = torch.tensor(label_id)\n",
        "  \n",
        "        else:\n",
        "          text_a, text_b = self.df.iloc[idx, :2].values\n",
        "          label_tensor = None\n",
        "\n",
        "          \n",
        "        # 建立第一個句子的 BERT tokens 並加入分隔符號 [SEP]\n",
        "        word_pieces = [\"[CLS]\"]\n",
        "        tokens_a = self.tokenizer.tokenize(text_a)\n",
        "        word_pieces += tokens_a + [\"[SEP]\"]\n",
        "        len_a = len(word_pieces)\n",
        "        \n",
        "        # 第二個句子的 BERT tokens\n",
        "        tokens_b = self.tokenizer.tokenize(text_b)\n",
        "        word_pieces += tokens_b + [\"[SEP]\"]\n",
        "        len_b = len(word_pieces) - len_a\n",
        "        \n",
        "        # 將整個 token 序列轉換成索引序列\n",
        "        ids = self.tokenizer.convert_tokens_to_ids(word_pieces)\n",
        "        tokens_tensor = torch.tensor(ids)\n",
        "        \n",
        "        # 將第一句包含 [SEP] 的 token 位置設為 0，其他為 1 表示第二句\n",
        "        segments_tensor = torch.tensor([0] * len_a + [1] * len_b, \n",
        "                                        dtype=torch.long)\n",
        "        \n",
        "        return (tokens_tensor, segments_tensor, label_tensor)\n",
        "    \n",
        "    def __len__(self):\n",
        "        return self.len\n",
        "# 初始化一個專門讀取訓練樣本的 Dataset，使用中文 BERT 斷詞\n",
        "trainset = IRDataset(\"train\", tokenizer=tokenizer)"
      ],
      "execution_count": 0,
      "outputs": []
    },
    {
      "cell_type": "markdown",
      "metadata": {
        "id": "TtQz-T2vhoup",
        "colab_type": "text"
      },
      "source": [
        "## 檢查資料讀取狀況"
      ]
    },
    {
      "cell_type": "code",
      "metadata": {
        "id": "QJbpReosyNfl",
        "colab_type": "code",
        "colab": {
          "base_uri": "https://localhost:8080/",
          "height": 408
        },
        "outputId": "30742724-d008-4a67-cc57-9f19fb75da07"
      },
      "source": [
        "# 選擇第一個樣本\n",
        "sample_idx = 99\n",
        "\n",
        "# 將原始文本拿出做比較\n",
        "text_a, text_b ,label= trainset.df.iloc[sample_idx].values\n",
        "\n",
        "# 利用剛剛建立的 Dataset 取出轉換後的 id tensors\n",
        "tokens_tensor, segments_tensor, label_tensor = trainset[sample_idx]\n",
        "\n",
        "# 將 tokens_tensor 還原成文本\n",
        "tokens = tokenizer.convert_ids_to_tokens(tokens_tensor.tolist())\n",
        "combined_text = \"\".join(tokens)\n",
        "\n",
        "# 渲染前後差異，毫無反應就是個 print。可以直接看輸出結果\n",
        "print(f\"\"\"[原始文本]\n",
        "句子 1：{text_a}\n",
        "句子 2：{text_b}\n",
        "分類  ：{label}\n",
        "\n",
        "--------------------\n",
        "\n",
        "[Dataset 回傳的 tensors]\n",
        "tokens_tensor  ：{tokens_tensor}\n",
        "\n",
        "segments_tensor：{segments_tensor}\n",
        "\n",
        "label_tensor   ：{label_tensor}\n",
        "\n",
        "--------------------\n",
        "\n",
        "[還原 tokens_tensors]\n",
        "{combined_text}\n",
        "\"\"\")"
      ],
      "execution_count": 129,
      "outputs": [
        {
          "output_type": "stream",
          "text": [
            "[原始文本]\n",
            "句子 1：11月10号今日淘宝双十一天猫密令红包 双11支付宝红包口令\n",
            "句子 2：【正式辟谣！天猫双11不停售，吃瓜群众可\n",
            "分類  ：unrelated\n",
            "\n",
            "--------------------\n",
            "\n",
            "[Dataset 回傳的 tensors]\n",
            "tokens_tensor  ：tensor([ 101, 8111, 3299, 8108, 1384,  791, 3189, 3905, 2140, 1352, 1282,  671,\n",
            "        1921, 4344, 2166,  808, 5273, 1259, 1352, 8111, 3118,  802, 2140, 5273,\n",
            "        1259, 1366,  808,  102,  523, 3633, 2466, 6792, 6469, 8013, 1921, 4344,\n",
            "        1352, 8111,  679,  977, 1545, 8024, 1391, 4478, 5408,  830, 1377,  102])\n",
            "\n",
            "segments_tensor：tensor([0, 0, 0, 0, 0, 0, 0, 0, 0, 0, 0, 0, 0, 0, 0, 0, 0, 0, 0, 0, 0, 0, 0, 0,\n",
            "        0, 0, 0, 0, 1, 1, 1, 1, 1, 1, 1, 1, 1, 1, 1, 1, 1, 1, 1, 1, 1, 1, 1, 1])\n",
            "\n",
            "label_tensor   ：2\n",
            "\n",
            "--------------------\n",
            "\n",
            "[還原 tokens_tensors]\n",
            "[CLS]11月10号今日淘宝双十一天猫密令红包双11支付宝红包口令[SEP]【正式辟谣！天猫双11不停售，吃瓜群众可[SEP]\n",
            "\n"
          ],
          "name": "stdout"
        }
      ]
    },
    {
      "cell_type": "markdown",
      "metadata": {
        "id": "DopmqA7Xh0km",
        "colab_type": "text"
      },
      "source": [
        "## 批次載入資料 Function"
      ]
    },
    {
      "cell_type": "code",
      "metadata": {
        "id": "NFfhzVESzHD7",
        "colab_type": "code",
        "colab": {}
      },
      "source": [
        "from torch.utils.data import DataLoader\n",
        "from torch.nn.utils.rnn import pad_sequence\n",
        "\n",
        "# 這個函式的輸入 `samples` 是一個 list，裡頭的每個 element 都是\n",
        "# 剛剛定義的 `FakeNewsDataset` 回傳的一個樣本，每個樣本都包含 3 tensors：\n",
        "# - tokens_tensor\n",
        "# - segments_tensor\n",
        "# - label_tensor\n",
        "# 它會對前兩個 tensors 作 zero padding，並產生前面說明過的 masks_tensors\n",
        "def create_mini_batch(samples):\n",
        "    tokens_tensors = [s[0] for s in samples]\n",
        "    segments_tensors = [s[1] for s in samples]\n",
        "    \n",
        "    # 測試集有 labels\n",
        "    if samples[0][2] is not None:\n",
        "        label_ids = torch.stack([s[2] for s in samples])\n",
        "    else:\n",
        "        label_ids = None\n",
        "    \n",
        "    # zero pad 到同一序列長度\n",
        "    tokens_tensors = pad_sequence(tokens_tensors, \n",
        "                                  batch_first=True)\n",
        "    segments_tensors = pad_sequence(segments_tensors, \n",
        "                                    batch_first=True)\n",
        "    \n",
        "    # attention masks，將 tokens_tensors 裡頭不為 zero padding\n",
        "    # 的位置設為 1 讓 BERT 只關注這些位置的 tokens\n",
        "    masks_tensors = torch.zeros(tokens_tensors.shape, \n",
        "                                dtype=torch.long)\n",
        "    masks_tensors = masks_tensors.masked_fill(\n",
        "        tokens_tensors != 0, 1)\n",
        "    \n",
        "    return tokens_tensors, segments_tensors, masks_tensors, label_ids\n",
        "\n",
        "\n",
        "# 初始化一個每次回傳 64 個訓練樣本的 DataLoader\n",
        "# 利用 `collate_fn` 將 list of samples 合併成一個 mini-batch 是關鍵\n",
        "BATCH_SIZE = 64\n",
        "trainloader = DataLoader(trainset, batch_size=BATCH_SIZE, \n",
        "                         collate_fn=create_mini_batch)"
      ],
      "execution_count": 0,
      "outputs": []
    },
    {
      "cell_type": "markdown",
      "metadata": {
        "id": "o1MTS5KXh2p4",
        "colab_type": "text"
      },
      "source": [
        "## 檢查模型參數"
      ]
    },
    {
      "cell_type": "code",
      "metadata": {
        "id": "BCj-Rp5b4TW9",
        "colab_type": "code",
        "colab": {
          "base_uri": "https://localhost:8080/",
          "height": 153
        },
        "outputId": "49bdbac6-90dd-4d58-cb63-342719086e07"
      },
      "source": [
        "# 載入一個可以做中文多分類任務的模型，n_class = 3\n",
        "from transformers import BertForSequenceClassification\n",
        "\n",
        "PRETRAINED_MODEL_NAME = \"bert-base-chinese\"\n",
        "NUM_LABELS = 3\n",
        "\n",
        "model = BertForSequenceClassification.from_pretrained(\n",
        "    PRETRAINED_MODEL_NAME, num_labels=NUM_LABELS)\n",
        "\n",
        "clear_output()\n",
        "\n",
        "# high-level 顯示此模型裡的 modules\n",
        "print(\"\"\"\n",
        "name            module\n",
        "----------------------\"\"\")\n",
        "for name, module in model.named_children():\n",
        "    if name == \"bert\":\n",
        "        for n, _ in module.named_children():\n",
        "            print(f\"{name}:{n}\")\n",
        "    else:\n",
        "        print(\"{:15} {}\".format(name, module))"
      ],
      "execution_count": 131,
      "outputs": [
        {
          "output_type": "stream",
          "text": [
            "\n",
            "name            module\n",
            "----------------------\n",
            "bert:embeddings\n",
            "bert:encoder\n",
            "bert:pooler\n",
            "dropout         Dropout(p=0.1, inplace=False)\n",
            "classifier      Linear(in_features=768, out_features=3, bias=True)\n"
          ],
          "name": "stdout"
        }
      ]
    },
    {
      "cell_type": "markdown",
      "metadata": {
        "id": "vrPnD-3-h7Rf",
        "colab_type": "text"
      },
      "source": [
        "## 模型預測Function"
      ]
    },
    {
      "cell_type": "code",
      "metadata": {
        "id": "6K-Z2FgM4nzI",
        "colab_type": "code",
        "colab": {}
      },
      "source": [
        "def get_predictions(model, dataloader, compute_acc=False):\n",
        "    predictions = None\n",
        "    correct = 0\n",
        "    total = 0\n",
        "      \n",
        "    with torch.no_grad():\n",
        "        # 遍巡整個資料集\n",
        "        for data in dataloader:\n",
        "            # 將所有 tensors 移到 GPU 上\n",
        "            if next(model.parameters()).is_cuda:\n",
        "                data = [t.to(\"cuda:0\") for t in data if t is not None]\n",
        "            \n",
        "            \n",
        "            # 別忘記前 3 個 tensors 分別為 tokens, segments 以及 masks\n",
        "            # 且強烈建議在將這些 tensors 丟入 `model` 時指定對應的參數名稱\n",
        "            tokens_tensors, segments_tensors, masks_tensors = data[:3]\n",
        "            outputs = model(input_ids=tokens_tensors, \n",
        "                            token_type_ids=segments_tensors, \n",
        "                            attention_mask=masks_tensors)\n",
        "            \n",
        "            logits = outputs[0]\n",
        "            _, pred = torch.max(logits.data, 1)\n",
        "            \n",
        "            # 用來計算訓練集的分類準確率\n",
        "            if compute_acc:\n",
        "                labels = data[3]\n",
        "                total += labels.size(0)\n",
        "                correct += (pred == labels).sum().item()\n",
        "                \n",
        "            # 將當前 batch 記錄下來\n",
        "            if predictions is None:\n",
        "                predictions = pred\n",
        "            else:\n",
        "                predictions = torch.cat((predictions, pred))\n",
        "    \n",
        "    if compute_acc:\n",
        "        acc = correct / total\n",
        "        return predictions, acc\n",
        "    return predictions"
      ],
      "execution_count": 0,
      "outputs": []
    },
    {
      "cell_type": "markdown",
      "metadata": {
        "id": "eLqM6VfKh-ka",
        "colab_type": "text"
      },
      "source": [
        "# 開始 FineTune Bert Sequence 模型"
      ]
    },
    {
      "cell_type": "code",
      "metadata": {
        "id": "EBBqO3d745jp",
        "colab_type": "code",
        "colab": {
          "base_uri": "https://localhost:8080/",
          "height": 170
        },
        "outputId": "ddae6508-125a-4846-d4cf-2f8759489267"
      },
      "source": [
        "%%time\n",
        "\n",
        "#有GPU用GPU，沒有的話就用CPU\n",
        "device = torch.device(\"cuda:0\" if torch.cuda.is_available() else \"cpu\")\n",
        "print(\"device:\", device)\n",
        "#將目前 model 上的數值都 Copy 一份到 device 上\n",
        "#後續將在該device上操作\n",
        "model = model.to(device)\n",
        "model.train()\n",
        "#優化器選用Adam\n",
        "optimizer = torch.optim.Adam(model.parameters(), lr=1e-5)\n",
        "#跑6個epoch\n",
        "#EPOCHS = 6 \n",
        "for epoch in range(EPOCHS):\n",
        "    running_loss = 0.0\n",
        "    # 1 個epoch 跑 n 次Batch\n",
        "    # 每次 batch 都是一個step\n",
        "    for data in trainloader:\n",
        "        #找trainloader拿資料\n",
        "        #分別放置對應的 list變數\n",
        "        tokens_tensors, segments_tensors, \\\n",
        "        masks_tensors, labels = [t.to(device) for t in data]\n",
        "        #歸零梯度參數\n",
        "        optimizer.zero_grad()\n",
        "        #將輸入值塞進 model\n",
        "        outputs = model(input_ids=tokens_tensors, \n",
        "                        token_type_ids=segments_tensors, \n",
        "                        attention_mask=masks_tensors, \n",
        "                        labels=labels)\n",
        "        #此處output值第一個變數是loss\n",
        "        #有提供label作為input時，第一個值會是loss\n",
        "        #沒有提供時，第一個值會是logits\n",
        "        loss = outputs[0]\n",
        "        #反向傳播模型參數\n",
        "        loss.backward()\n",
        "        #優化器更新參數\n",
        "        optimizer.step()\n",
        "\n",
        "        running_loss += loss.item()\n",
        "        \n",
        "    _, acc = get_predictions(model, trainloader, compute_acc=True)\n",
        "\n",
        "    print('[epoch %d] loss: %.3f, acc: %.3f' %\n",
        "          (epoch + 1, running_loss, acc))\n",
        "    "
      ],
      "execution_count": 18,
      "outputs": [
        {
          "output_type": "stream",
          "text": [
            "device: cuda:0\n",
            "[epoch 1] loss: 196.256, acc: 0.867\n",
            "[epoch 2] loss: 133.042, acc: 0.900\n",
            "[epoch 3] loss: 108.404, acc: 0.927\n",
            "[epoch 4] loss: 85.961, acc: 0.943\n",
            "[epoch 5] loss: 69.715, acc: 0.956\n",
            "[epoch 6] loss: 56.039, acc: 0.968\n",
            "CPU times: user 24min 44s, sys: 16min 20s, total: 41min 4s\n",
            "Wall time: 41min 9s\n"
          ],
          "name": "stdout"
        }
      ]
    },
    {
      "cell_type": "markdown",
      "metadata": {
        "id": "lruuTLSsiJlz",
        "colab_type": "text"
      },
      "source": [
        "## FineTune完成，進行驗證"
      ]
    },
    {
      "cell_type": "code",
      "metadata": {
        "id": "YuV3K3OB4_Lm",
        "colab_type": "code",
        "colab": {}
      },
      "source": [
        "%%time\n",
        "validset = IRDataset(\"valid\", tokenizer=tokenizer)\n",
        "validloader = DataLoader(validset, batch_size=256,collate_fn=create_mini_batch)\n",
        "\n",
        "predictions = get_predictions(model, validloader)\n",
        "\n",
        "index_map = {v: k for k, v in validset.label_map.items()}\n",
        "\n",
        "valid_pred = pd.DataFrame({\"Category\": predictions.tolist()})\n",
        "valid_pred['Category'] = valid_pred.Category.apply(lambda x: index_map[x])\n",
        "valid_df = pd.concat([validset.df, valid_pred.loc[:, 'Category']], axis=1)\n"
      ],
      "execution_count": 0,
      "outputs": []
    },
    {
      "cell_type": "code",
      "metadata": {
        "id": "95SU-AN_Kv4e",
        "colab_type": "code",
        "colab": {}
      },
      "source": [
        "valid_df[valid_df.label != valid_df.Category]"
      ],
      "execution_count": 0,
      "outputs": []
    },
    {
      "cell_type": "markdown",
      "metadata": {
        "id": "JdnEfE_7ikYu",
        "colab_type": "text"
      },
      "source": [
        "## 驗證完成，進行預測\n",
        "載入 model"
      ]
    },
    {
      "cell_type": "code",
      "metadata": {
        "id": "E2guxO7oFSvR",
        "colab_type": "code",
        "colab": {
          "base_uri": "https://localhost:8080/",
          "height": 34
        },
        "outputId": "3a51fad6-41fa-417c-b6e8-cc771d326cfe"
      },
      "source": [
        "model_path = '/content/drive/My Drive/Colab Notebooks/DocumentRetrivalModel'\n",
        "from transformers import BertTokenizer\n",
        "tokenizer = BertTokenizer.from_pretrained(model_path)\n",
        "from transformers import BertForSequenceClassification\n",
        "model = BertForSequenceClassification.from_pretrained(model_path, num_labels=3)\n",
        "\n",
        "device = torch.device(\"cuda:0\" if torch.cuda.is_available() else \"cpu\")\n",
        "print(\"device:\", device)\n",
        "\n",
        "model = model.to(device)\n",
        "#為了解決 CUDA error: device-side assert triggered\n",
        "import os\n",
        "os.environ['CUDA_LAUNCH_BLOCKING'] = \"1\""
      ],
      "execution_count": 19,
      "outputs": [
        {
          "output_type": "stream",
          "text": [
            "device: cuda:0\n"
          ],
          "name": "stdout"
        }
      ]
    },
    {
      "cell_type": "markdown",
      "metadata": {
        "id": "0pmBgBVJ9Vu9",
        "colab_type": "text"
      },
      "source": [
        "模型預測"
      ]
    },
    {
      "cell_type": "code",
      "metadata": {
        "id": "u2jM_VFMWuyh",
        "colab_type": "code",
        "colab": {
          "base_uri": "https://localhost:8080/",
          "height": 51
        },
        "outputId": "765e8391-1691-4e4a-c106-059fd7297397"
      },
      "source": [
        "%%time\n",
        "# 建立測試集。這邊我們可以用跟訓練時不同的 batch_size，看你 GPU 多大\n",
        "testset = IRDataset(\"test\", tokenizer=tokenizer)\n",
        "testloader = DataLoader(testset, batch_size=64, \n",
        "                        collate_fn=create_mini_batch)\n",
        "\n",
        "# 用分類模型預測測試集\n",
        "test_predictions = get_predictions(model, testloader)"
      ],
      "execution_count": 29,
      "outputs": [
        {
          "output_type": "stream",
          "text": [
            "CPU times: user 4min 8s, sys: 1min 2s, total: 5min 10s\n",
            "Wall time: 5min 10s\n"
          ],
          "name": "stdout"
        }
      ]
    },
    {
      "cell_type": "markdown",
      "metadata": {
        "id": "XYzG8QZJ9Z12",
        "colab_type": "text"
      },
      "source": [
        "檢查結果"
      ]
    },
    {
      "cell_type": "code",
      "metadata": {
        "id": "pFV0fVl6OYEo",
        "colab_type": "code",
        "colab": {
          "base_uri": "https://localhost:8080/",
          "height": 359
        },
        "outputId": "e39c6c2e-3090-44b0-fe63-df26071b97e9"
      },
      "source": [
        "# 用來將預測的 label id 轉回 label 文字\n",
        "index_map = {v: k for k, v in testset.label_map.items()}\n",
        "test_pred = pd.DataFrame({\"Category\": test_predictions.tolist()})\n",
        "test_pred['Category'] = test_pred.Category.apply(lambda x: index_map[x])\n",
        "test_df = pd.concat([testset.df, test_pred.loc[:, 'Category']], axis=1)\n",
        "test_df.to_csv(path+'dr_sentence_result.csv',index=False,encoding='utf-8')\n",
        "test_df.sample(10)"
      ],
      "execution_count": 64,
      "outputs": [
        {
          "output_type": "execute_result",
          "data": {
            "text/html": [
              "<div>\n",
              "<style scoped>\n",
              "    .dataframe tbody tr th:only-of-type {\n",
              "        vertical-align: middle;\n",
              "    }\n",
              "\n",
              "    .dataframe tbody tr th {\n",
              "        vertical-align: top;\n",
              "    }\n",
              "\n",
              "    .dataframe thead th {\n",
              "        text-align: right;\n",
              "    }\n",
              "</style>\n",
              "<table border=\"1\" class=\"dataframe\">\n",
              "  <thead>\n",
              "    <tr style=\"text-align: right;\">\n",
              "      <th></th>\n",
              "      <th>text_a</th>\n",
              "      <th>text_b</th>\n",
              "      <th>label</th>\n",
              "      <th>idx</th>\n",
              "      <th>Category</th>\n",
              "    </tr>\n",
              "  </thead>\n",
              "  <tbody>\n",
              "    <tr>\n",
              "      <th>90937</th>\n",
              "      <td>贊同課綱微調</td>\n",
              "      <td>但有上述的疏忽和漏洞</td>\n",
              "      <td>3</td>\n",
              "      <td>1493</td>\n",
              "      <td>unrelated</td>\n",
              "    </tr>\n",
              "    <tr>\n",
              "      <th>102505</th>\n",
              "      <td>贊成流浪動物零撲殺</td>\n",
              "      <td>棄養施以重罰</td>\n",
              "      <td>0</td>\n",
              "      <td>1700</td>\n",
              "      <td>unrelated</td>\n",
              "    </tr>\n",
              "    <tr>\n",
              "      <th>110104</th>\n",
              "      <td>核四應該啟用</td>\n",
              "      <td>重新被界定為活斷層</td>\n",
              "      <td>1</td>\n",
              "      <td>1813</td>\n",
              "      <td>unrelated</td>\n",
              "    </tr>\n",
              "    <tr>\n",
              "      <th>185536</th>\n",
              "      <td>應該提高酒駕罰責以有效遏制酒駕</td>\n",
              "      <td>「肇事逃逸罪(185-4)」等三罪名起訴</td>\n",
              "      <td>3</td>\n",
              "      <td>3052</td>\n",
              "      <td>unrelated</td>\n",
              "    </tr>\n",
              "    <tr>\n",
              "      <th>154417</th>\n",
              "      <td>遠雄大巨蛋工程應停工或拆除</td>\n",
              "      <td>若北市府查馬當台北市長時議約有不法</td>\n",
              "      <td>2</td>\n",
              "      <td>2478</td>\n",
              "      <td>unrelated</td>\n",
              "    </tr>\n",
              "    <tr>\n",
              "      <th>7335</th>\n",
              "      <td>年金改革應取消或應調降軍公教月退之優存利率十八趴</td>\n",
              "      <td>共同努力</td>\n",
              "      <td>2</td>\n",
              "      <td>139</td>\n",
              "      <td>unrelated</td>\n",
              "    </tr>\n",
              "    <tr>\n",
              "      <th>69955</th>\n",
              "      <td>國際賽事會場內應該可以持中華民國國旗</td>\n",
              "      <td>「我在國中也是運動員</td>\n",
              "      <td>1</td>\n",
              "      <td>1131</td>\n",
              "      <td>unrelated</td>\n",
              "    </tr>\n",
              "    <tr>\n",
              "      <th>64649</th>\n",
              "      <td>國際賽事會場內應該可以持中華民國國旗</td>\n",
              "      <td>美</td>\n",
              "      <td>1</td>\n",
              "      <td>1035</td>\n",
              "      <td>unrelated</td>\n",
              "    </tr>\n",
              "    <tr>\n",
              "      <th>206678</th>\n",
              "      <td>臺灣應開放含瘦肉精(萊克多巴胺)之美國牛肉進口</td>\n",
              "      <td>「台灣對(美國)牛肉採取的行動</td>\n",
              "      <td>2</td>\n",
              "      <td>3374</td>\n",
              "      <td>agreed</td>\n",
              "    </tr>\n",
              "    <tr>\n",
              "      <th>90480</th>\n",
              "      <td>贊同課綱微調</td>\n",
              "      <td>他認為把學生納入課綱代表是政治化動作</td>\n",
              "      <td>2</td>\n",
              "      <td>1486</td>\n",
              "      <td>unrelated</td>\n",
              "    </tr>\n",
              "  </tbody>\n",
              "</table>\n",
              "</div>"
            ],
            "text/plain": [
              "                          text_a                text_b  label   idx   Category\n",
              "90937                     贊同課綱微調            但有上述的疏忽和漏洞      3  1493  unrelated\n",
              "102505                 贊成流浪動物零撲殺                棄養施以重罰      0  1700  unrelated\n",
              "110104                    核四應該啟用             重新被界定為活斷層      1  1813  unrelated\n",
              "185536           應該提高酒駕罰責以有效遏制酒駕  「肇事逃逸罪(185-4)」等三罪名起訴      3  3052  unrelated\n",
              "154417             遠雄大巨蛋工程應停工或拆除     若北市府查馬當台北市長時議約有不法      2  2478  unrelated\n",
              "7335    年金改革應取消或應調降軍公教月退之優存利率十八趴                  共同努力      2   139  unrelated\n",
              "69955         國際賽事會場內應該可以持中華民國國旗            「我在國中也是運動員      1  1131  unrelated\n",
              "64649         國際賽事會場內應該可以持中華民國國旗                     美      1  1035  unrelated\n",
              "206678   臺灣應開放含瘦肉精(萊克多巴胺)之美國牛肉進口       「台灣對(美國)牛肉採取的行動      2  3374     agreed\n",
              "90480                     贊同課綱微調    他認為把學生納入課綱代表是政治化動作      2  1486  unrelated"
            ]
          },
          "metadata": {
            "tags": []
          },
          "execution_count": 64
        }
      ]
    },
    {
      "cell_type": "markdown",
      "metadata": {
        "id": "lz3_EgV89d-0",
        "colab_type": "text"
      },
      "source": [
        "# 預測結果計算"
      ]
    },
    {
      "cell_type": "markdown",
      "metadata": {
        "id": "VSvZlbjO9oDc",
        "colab_type": "text"
      },
      "source": [
        "## 檢視相關性\n",
        "\n",
        "unrelate = 0\n",
        "\n",
        "agreed , disagree = 1\n",
        "\n",
        "加總 <每篇文章> 中與 query 有關 <句子數>\n",
        "\n",
        "再對各 relevance 取平均值\n"
      ]
    },
    {
      "cell_type": "code",
      "metadata": {
        "id": "D9deXGNHXhun",
        "colab_type": "code",
        "colab": {
          "base_uri": "https://localhost:8080/",
          "height": 589
        },
        "outputId": "8ebf9717-d4cd-4e25-9ba5-2d0545e4c0bf"
      },
      "source": [
        "score_map = {'agreed': 1, 'disagreed': 1, 'unrelated': 0}\n",
        "test_df['RelevantSentences'] = test_df.Category.apply(lambda x: score_map[x])\n",
        "article_score = test_df.groupby(['idx']).agg('mean').reset_index(drop=True)\n",
        "result_df = pd.concat([_df,article_score['RelevantSentences']],axis=1)\n",
        "result_df"
      ],
      "execution_count": 134,
      "outputs": [
        {
          "output_type": "execute_result",
          "data": {
            "text/html": [
              "<div>\n",
              "<style scoped>\n",
              "    .dataframe tbody tr th:only-of-type {\n",
              "        vertical-align: middle;\n",
              "    }\n",
              "\n",
              "    .dataframe tbody tr th {\n",
              "        vertical-align: top;\n",
              "    }\n",
              "\n",
              "    .dataframe thead th {\n",
              "        text-align: right;\n",
              "    }\n",
              "</style>\n",
              "<table border=\"1\" class=\"dataframe\">\n",
              "  <thead>\n",
              "    <tr style=\"text-align: right;\">\n",
              "      <th></th>\n",
              "      <th>query</th>\n",
              "      <th>news</th>\n",
              "      <th>relevance</th>\n",
              "      <th>trimed_text</th>\n",
              "      <th>RelevantSentences</th>\n",
              "    </tr>\n",
              "  </thead>\n",
              "  <tbody>\n",
              "    <tr>\n",
              "      <th>0</th>\n",
              "      <td>支持陳前總統保外就醫</td>\n",
              "      <td>前總統陳水扁律師團今天說，法務部若依醫療鑑定小組認定，准扁保外就醫，重視醫療人權，在國際能見...</td>\n",
              "      <td>2</td>\n",
              "      <td>前總統陳水扁律師團今天說，法務部若依醫療鑑定小組認定，准扁保外就醫，重視醫療人權，在國際能見...</td>\n",
              "      <td>0.021739</td>\n",
              "    </tr>\n",
              "    <tr>\n",
              "      <th>1</th>\n",
              "      <td>支持陳前總統保外就醫</td>\n",
              "      <td>2014.12.05，大家晚安！每天晚間為您彙整夜線最讚新聞，一起來看看今天的夜線最讚新聞有...</td>\n",
              "      <td>1</td>\n",
              "      <td>2014，12，05，大家晚安，每天晚間為您彙整夜線最讚新聞，一起來看看今天的夜線最讚新聞有...</td>\n",
              "      <td>0.023810</td>\n",
              "    </tr>\n",
              "    <tr>\n",
              "      <th>2</th>\n",
              "      <td>支持陳前總統保外就醫</td>\n",
              "      <td>針對法務部昨（8）日指若前總統陳水扁近半年病情確有變化，可再次提出保外就醫聲請，民主進步黨發...</td>\n",
              "      <td>3</td>\n",
              "      <td>針對法務部昨（8）日指若前總統陳水扁近半年病情確有變化，可再次提出保外就醫聲請，民主進步黨發...</td>\n",
              "      <td>0.166667</td>\n",
              "    </tr>\n",
              "    <tr>\n",
              "      <th>3</th>\n",
              "      <td>支持陳前總統保外就醫</td>\n",
              "      <td>前總統陳水扁申請重回民進黨，因爭議過大，受理的台北市黨部昨日以「逕送中央」方式，表達拒審態度...</td>\n",
              "      <td>1</td>\n",
              "      <td>前總統陳水扁申請重回民進黨，因爭議過大，受理的台北市黨部昨日以「逕送中央」方式，表達拒審態度...</td>\n",
              "      <td>0.000000</td>\n",
              "    </tr>\n",
              "    <tr>\n",
              "      <th>4</th>\n",
              "      <td>支持陳前總統保外就醫</td>\n",
              "      <td>高雄市政府今天舉行升旗典禮，市長陳菊呼籲，法務部矯正署盡速完成應做的行政程序，讓前總統陳水扁...</td>\n",
              "      <td>3</td>\n",
              "      <td>高雄市政府今天舉行升旗典禮，市長陳菊呼籲，法務部矯正署盡速完成應做的行政程序，讓前總統陳水扁...</td>\n",
              "      <td>0.096774</td>\n",
              "    </tr>\n",
              "    <tr>\n",
              "      <th>...</th>\n",
              "      <td>...</td>\n",
              "      <td>...</td>\n",
              "      <td>...</td>\n",
              "      <td>...</td>\n",
              "      <td>...</td>\n",
              "    </tr>\n",
              "    <tr>\n",
              "      <th>3512</th>\n",
              "      <td>臺灣應開放含瘦肉精(萊克多巴胺)之美國牛肉進口</td>\n",
              "      <td>經濟部長施顏祥日前表示，只要美牛問題一日不解，台美就難以啟動ＴＩＦＡ（台美貿易暨投資架構協定...</td>\n",
              "      <td>0</td>\n",
              "      <td>經濟部長施顏祥日前表示，只要美牛問題一日不解，台美就難以啟動ＴＩＦＡ（台美貿易暨投資架構協定...</td>\n",
              "      <td>0.033898</td>\n",
              "    </tr>\n",
              "    <tr>\n",
              "      <th>3513</th>\n",
              "      <td>臺灣應開放含瘦肉精(萊克多巴胺)之美國牛肉進口</td>\n",
              "      <td>立法院明天將召開臨時會，處理美牛問題。執政黨有人數優勢，只要下定決心，當然會過關。但是，這一...</td>\n",
              "      <td>0</td>\n",
              "      <td>立法院明天將召開臨時會，處理美牛問題，執政黨有人數優勢，只要下定決心，當然會過關，但是，這一...</td>\n",
              "      <td>0.063830</td>\n",
              "    </tr>\n",
              "    <tr>\n",
              "      <th>3514</th>\n",
              "      <td>臺灣應開放含瘦肉精(萊克多巴胺)之美國牛肉進口</td>\n",
              "      <td>記者鄒景雯／特稿看到昨天的就職大典，國民黨菁英與立委們真要好好思忖︰「隨人顧性命」這句俗諺的...</td>\n",
              "      <td>0</td>\n",
              "      <td>記者鄒景雯／特稿看到昨天的就職大典，國民黨菁英與立委們真要好好思忖︰「隨人顧性命」這句俗諺的...</td>\n",
              "      <td>0.018868</td>\n",
              "    </tr>\n",
              "    <tr>\n",
              "      <th>3515</th>\n",
              "      <td>臺灣應開放含瘦肉精(萊克多巴胺)之美國牛肉進口</td>\n",
              "      <td>行政院日昨宣布有條件開放含瘦肉精的美牛進口，將採取「牛豬分離」等四項原則，不過國內養牛養豬業...</td>\n",
              "      <td>0</td>\n",
              "      <td>行政院日昨宣布有條件開放含瘦肉精的美牛進口，將採取「牛豬分離」等四項原則，不過國內養牛養豬業...</td>\n",
              "      <td>0.040000</td>\n",
              "    </tr>\n",
              "    <tr>\n",
              "      <th>3516</th>\n",
              "      <td>臺灣應開放含瘦肉精(萊克多巴胺)之美國牛肉進口</td>\n",
              "      <td>〔記者謝銀仲／新港報導〕嘉義縣養豬協會表達「反對瘦肉精解禁」訴求，三月八日將動員上千人北上抗...</td>\n",
              "      <td>0</td>\n",
              "      <td>〔記者謝銀仲／新港報導〕嘉義縣養豬協會表達「反對瘦肉精解禁」訴求，三月八日將動員上千人北上抗...</td>\n",
              "      <td>0.025000</td>\n",
              "    </tr>\n",
              "  </tbody>\n",
              "</table>\n",
              "<p>3517 rows × 5 columns</p>\n",
              "</div>"
            ],
            "text/plain": [
              "                        query  ... RelevantSentences\n",
              "0                  支持陳前總統保外就醫  ...          0.021739\n",
              "1                  支持陳前總統保外就醫  ...          0.023810\n",
              "2                  支持陳前總統保外就醫  ...          0.166667\n",
              "3                  支持陳前總統保外就醫  ...          0.000000\n",
              "4                  支持陳前總統保外就醫  ...          0.096774\n",
              "...                       ...  ...               ...\n",
              "3512  臺灣應開放含瘦肉精(萊克多巴胺)之美國牛肉進口  ...          0.033898\n",
              "3513  臺灣應開放含瘦肉精(萊克多巴胺)之美國牛肉進口  ...          0.063830\n",
              "3514  臺灣應開放含瘦肉精(萊克多巴胺)之美國牛肉進口  ...          0.018868\n",
              "3515  臺灣應開放含瘦肉精(萊克多巴胺)之美國牛肉進口  ...          0.040000\n",
              "3516  臺灣應開放含瘦肉精(萊克多巴胺)之美國牛肉進口  ...          0.025000\n",
              "\n",
              "[3517 rows x 5 columns]"
            ]
          },
          "metadata": {
            "tags": []
          },
          "execution_count": 134
        }
      ]
    },
    {
      "cell_type": "markdown",
      "metadata": {
        "id": "g8f1VcuJ-FDR",
        "colab_type": "text"
      },
      "source": [
        "觀察 relevance 與 Bert判斷有出現相關句子數量的關係\n",
        "(單位 %)\n"
      ]
    },
    {
      "cell_type": "code",
      "metadata": {
        "id": "DX6A02Avaoxx",
        "colab_type": "code",
        "colab": {
          "base_uri": "https://localhost:8080/",
          "height": 102
        },
        "outputId": "23c4147c-a2a4-48f8-8ca4-5db4c1d07c20"
      },
      "source": [
        "result_df.groupby(['relevance']).agg('mean')['RelevantSentences']  .reset_index(drop=True) * 100"
      ],
      "execution_count": 137,
      "outputs": [
        {
          "output_type": "execute_result",
          "data": {
            "text/plain": [
              "0    3.111672\n",
              "1    1.579929\n",
              "2    4.279764\n",
              "3    6.754181\n",
              "Name: RelevantSentences, dtype: float64"
            ]
          },
          "metadata": {
            "tags": []
          },
          "execution_count": 137
        }
      ]
    },
    {
      "cell_type": "markdown",
      "metadata": {
        "id": "QyLdo0xH-NS4",
        "colab_type": "text"
      },
      "source": [
        "## 觀察立場支持度\n",
        "\n",
        "計算 <每篇文章> 中與 query 相關、無關及總句子數\n",
        "\n",
        "agreed : 認同句數\n",
        "\n",
        "agreed_ratio : 認同句占比\n",
        "\n",
        "disagreed : 不認同句數\n",
        "\n",
        "disagreed_ratio : 不認同句占比\n",
        "\n",
        "unrelated : 無關句數\n",
        "\n",
        "unrelated_ratio : 無關句占比\n",
        "\n",
        "sentences_count 總句數\n"
      ]
    },
    {
      "cell_type": "code",
      "metadata": {
        "id": "3m_16G5rbmRG",
        "colab_type": "code",
        "colab": {}
      },
      "source": [
        "score_map = {'agreed': 1, 'disagreed': -1, 'unrelated': 0}\n",
        "test_df['SentimentSentences'] = test_df.Category.apply(lambda x: score_map[x])\n",
        "\n",
        "article_score = test_df.groupby(['idx','Category']).size().reset_index()\n",
        "article_pivot = pd.pivot_table(article_score, values=0, index=['idx'],\n",
        "                    columns=['Category'], aggfunc='sum').fillna(0)\n",
        "result_df2 = pd.concat([_df,article_pivot],axis=1)\n",
        "result_df2['sentences_count'] = result_df2['agreed'] + result_df2['disagreed'] + result_df2['unrelated']\n",
        "result_df2['agreed_ratio'] = result_df2['agreed'] / result_df2['sentences_count']\n",
        "result_df2['disagreed_ratio'] = result_df2['disagreed'] / result_df2['sentences_count']\n",
        "result_df2['unrelated_ratio'] = result_df2['unrelated'] / result_df2['sentences_count']"
      ],
      "execution_count": 0,
      "outputs": []
    },
    {
      "cell_type": "code",
      "metadata": {
        "id": "6KZJg8NTMwha",
        "colab_type": "code",
        "colab": {
          "base_uri": "https://localhost:8080/",
          "height": 204
        },
        "outputId": "b4bbeffc-c5ab-43bc-a457-e69a0b9419a1"
      },
      "source": [
        "result_df2.head()"
      ],
      "execution_count": 113,
      "outputs": [
        {
          "output_type": "execute_result",
          "data": {
            "text/html": [
              "<div>\n",
              "<style scoped>\n",
              "    .dataframe tbody tr th:only-of-type {\n",
              "        vertical-align: middle;\n",
              "    }\n",
              "\n",
              "    .dataframe tbody tr th {\n",
              "        vertical-align: top;\n",
              "    }\n",
              "\n",
              "    .dataframe thead th {\n",
              "        text-align: right;\n",
              "    }\n",
              "</style>\n",
              "<table border=\"1\" class=\"dataframe\">\n",
              "  <thead>\n",
              "    <tr style=\"text-align: right;\">\n",
              "      <th></th>\n",
              "      <th>query</th>\n",
              "      <th>news</th>\n",
              "      <th>relevance</th>\n",
              "      <th>agreed</th>\n",
              "      <th>disagreed</th>\n",
              "      <th>unrelated</th>\n",
              "      <th>sentences_count</th>\n",
              "      <th>agreed_ratio</th>\n",
              "      <th>disagreed_ratio</th>\n",
              "      <th>unrelated_ratio</th>\n",
              "    </tr>\n",
              "  </thead>\n",
              "  <tbody>\n",
              "    <tr>\n",
              "      <th>0</th>\n",
              "      <td>支持陳前總統保外就醫</td>\n",
              "      <td>前總統陳水扁律師團今天說，法務部若依醫療鑑定小組認定，准扁保外就醫，重視醫療人權，在國際能見...</td>\n",
              "      <td>2</td>\n",
              "      <td>1.0</td>\n",
              "      <td>0.0</td>\n",
              "      <td>45.0</td>\n",
              "      <td>46.0</td>\n",
              "      <td>0.021739</td>\n",
              "      <td>0.000000</td>\n",
              "      <td>0.978261</td>\n",
              "    </tr>\n",
              "    <tr>\n",
              "      <th>1</th>\n",
              "      <td>支持陳前總統保外就醫</td>\n",
              "      <td>2014.12.05，大家晚安！每天晚間為您彙整夜線最讚新聞，一起來看看今天的夜線最讚新聞有...</td>\n",
              "      <td>1</td>\n",
              "      <td>2.0</td>\n",
              "      <td>0.0</td>\n",
              "      <td>82.0</td>\n",
              "      <td>84.0</td>\n",
              "      <td>0.023810</td>\n",
              "      <td>0.000000</td>\n",
              "      <td>0.976190</td>\n",
              "    </tr>\n",
              "    <tr>\n",
              "      <th>2</th>\n",
              "      <td>支持陳前總統保外就醫</td>\n",
              "      <td>針對法務部昨（8）日指若前總統陳水扁近半年病情確有變化，可再次提出保外就醫聲請，民主進步黨發...</td>\n",
              "      <td>3</td>\n",
              "      <td>4.0</td>\n",
              "      <td>1.0</td>\n",
              "      <td>25.0</td>\n",
              "      <td>30.0</td>\n",
              "      <td>0.133333</td>\n",
              "      <td>0.033333</td>\n",
              "      <td>0.833333</td>\n",
              "    </tr>\n",
              "    <tr>\n",
              "      <th>3</th>\n",
              "      <td>支持陳前總統保外就醫</td>\n",
              "      <td>前總統陳水扁申請重回民進黨，因爭議過大，受理的台北市黨部昨日以「逕送中央」方式，表達拒審態度...</td>\n",
              "      <td>1</td>\n",
              "      <td>0.0</td>\n",
              "      <td>0.0</td>\n",
              "      <td>66.0</td>\n",
              "      <td>66.0</td>\n",
              "      <td>0.000000</td>\n",
              "      <td>0.000000</td>\n",
              "      <td>1.000000</td>\n",
              "    </tr>\n",
              "    <tr>\n",
              "      <th>4</th>\n",
              "      <td>支持陳前總統保外就醫</td>\n",
              "      <td>高雄市政府今天舉行升旗典禮，市長陳菊呼籲，法務部矯正署盡速完成應做的行政程序，讓前總統陳水扁...</td>\n",
              "      <td>3</td>\n",
              "      <td>3.0</td>\n",
              "      <td>0.0</td>\n",
              "      <td>28.0</td>\n",
              "      <td>31.0</td>\n",
              "      <td>0.096774</td>\n",
              "      <td>0.000000</td>\n",
              "      <td>0.903226</td>\n",
              "    </tr>\n",
              "  </tbody>\n",
              "</table>\n",
              "</div>"
            ],
            "text/plain": [
              "        query  ... unrelated_ratio\n",
              "0  支持陳前總統保外就醫  ...        0.978261\n",
              "1  支持陳前總統保外就醫  ...        0.976190\n",
              "2  支持陳前總統保外就醫  ...        0.833333\n",
              "3  支持陳前總統保外就醫  ...        1.000000\n",
              "4  支持陳前總統保外就醫  ...        0.903226\n",
              "\n",
              "[5 rows x 10 columns]"
            ]
          },
          "metadata": {
            "tags": []
          },
          "execution_count": 113
        }
      ]
    },
    {
      "cell_type": "markdown",
      "metadata": {
        "id": "mhpLOfjBQQcf",
        "colab_type": "text"
      },
      "source": [
        "按照 relevance 做 Group By計算"
      ]
    },
    {
      "cell_type": "code",
      "metadata": {
        "id": "rpoEvL9mbzUo",
        "colab_type": "code",
        "colab": {
          "base_uri": "https://localhost:8080/",
          "height": 173
        },
        "outputId": "3109f50c-10ee-49e9-cacc-d15a60a2cac9"
      },
      "source": [
        "result_df2.groupby(['relevance']).agg('mean').reset_index(drop=True) "
      ],
      "execution_count": 139,
      "outputs": [
        {
          "output_type": "execute_result",
          "data": {
            "text/html": [
              "<div>\n",
              "<style scoped>\n",
              "    .dataframe tbody tr th:only-of-type {\n",
              "        vertical-align: middle;\n",
              "    }\n",
              "\n",
              "    .dataframe tbody tr th {\n",
              "        vertical-align: top;\n",
              "    }\n",
              "\n",
              "    .dataframe thead th {\n",
              "        text-align: right;\n",
              "    }\n",
              "</style>\n",
              "<table border=\"1\" class=\"dataframe\">\n",
              "  <thead>\n",
              "    <tr style=\"text-align: right;\">\n",
              "      <th></th>\n",
              "      <th>agreed</th>\n",
              "      <th>disagreed</th>\n",
              "      <th>unrelated</th>\n",
              "      <th>sentences_count</th>\n",
              "      <th>agreed_ratio</th>\n",
              "      <th>disagreed_ratio</th>\n",
              "      <th>unrelated_ratio</th>\n",
              "    </tr>\n",
              "  </thead>\n",
              "  <tbody>\n",
              "    <tr>\n",
              "      <th>0</th>\n",
              "      <td>1.286783</td>\n",
              "      <td>0.339152</td>\n",
              "      <td>58.374065</td>\n",
              "      <td>60.000000</td>\n",
              "      <td>0.024785</td>\n",
              "      <td>0.006331</td>\n",
              "      <td>0.968883</td>\n",
              "    </tr>\n",
              "    <tr>\n",
              "      <th>1</th>\n",
              "      <td>0.745443</td>\n",
              "      <td>0.098680</td>\n",
              "      <td>64.029541</td>\n",
              "      <td>64.873664</td>\n",
              "      <td>0.013862</td>\n",
              "      <td>0.001937</td>\n",
              "      <td>0.984201</td>\n",
              "    </tr>\n",
              "    <tr>\n",
              "      <th>2</th>\n",
              "      <td>1.596021</td>\n",
              "      <td>0.417820</td>\n",
              "      <td>54.439446</td>\n",
              "      <td>56.453287</td>\n",
              "      <td>0.033683</td>\n",
              "      <td>0.009114</td>\n",
              "      <td>0.957202</td>\n",
              "    </tr>\n",
              "    <tr>\n",
              "      <th>3</th>\n",
              "      <td>2.699187</td>\n",
              "      <td>0.479675</td>\n",
              "      <td>58.157182</td>\n",
              "      <td>61.336043</td>\n",
              "      <td>0.057757</td>\n",
              "      <td>0.009785</td>\n",
              "      <td>0.932458</td>\n",
              "    </tr>\n",
              "  </tbody>\n",
              "</table>\n",
              "</div>"
            ],
            "text/plain": [
              "     agreed  disagreed  ...  disagreed_ratio  unrelated_ratio\n",
              "0  1.286783   0.339152  ...         0.006331         0.968883\n",
              "1  0.745443   0.098680  ...         0.001937         0.984201\n",
              "2  1.596021   0.417820  ...         0.009114         0.957202\n",
              "3  2.699187   0.479675  ...         0.009785         0.932458\n",
              "\n",
              "[4 rows x 7 columns]"
            ]
          },
          "metadata": {
            "tags": []
          },
          "execution_count": 139
        }
      ]
    },
    {
      "cell_type": "markdown",
      "metadata": {
        "id": "fUo1KA-tOtix",
        "colab_type": "text"
      },
      "source": [
        "##結論\n",
        "1.需要更乾淨的資料集來訓練模型\n",
        "> \n",
        "2.Query 與 句子 的相關性Label 與預測結果相符\n",
        "\n",
        "3.Query 與 句子 的支持程度 不太明顯\n",
        "- unrelate 與 (agree + disagree) 的區別程度不高<br />\n",
        "- 新聞資料的 Relevance 定義不清，似乎包含支持度資訊<br />(0為相關但不支持,<br /> 1的相關句數與支持分數都最低)\n",
        "\n"
      ]
    },
    {
      "cell_type": "code",
      "metadata": {
        "id": "8OXwfHlqebey",
        "colab_type": "code",
        "colab": {}
      },
      "source": [
        ""
      ],
      "execution_count": 0,
      "outputs": []
    }
  ]
}