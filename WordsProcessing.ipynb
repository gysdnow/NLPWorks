{
  "nbformat": 4,
  "nbformat_minor": 0,
  "metadata": {
    "colab": {
      "name": "WordsProcessing.ipynb",
      "provenance": [],
      "collapsed_sections": [],
      "toc_visible": true,
      "mount_file_id": "1Cv-5PVvlx7Fu2misvUZiLhRTUNW9o0zr",
      "authorship_tag": "ABX9TyOpqLXL2le6nOoqvQ36GEyN",
      "include_colab_link": true
    },
    "kernelspec": {
      "name": "python3",
      "display_name": "Python 3"
    }
  },
  "cells": [
    {
      "cell_type": "markdown",
      "metadata": {
        "id": "view-in-github",
        "colab_type": "text"
      },
      "source": [
        "<a href=\"https://colab.research.google.com/github/gysdnow/NLPWorks/blob/master/WordsProcessing.ipynb\" target=\"_parent\"><img src=\"https://colab.research.google.com/assets/colab-badge.svg\" alt=\"Open In Colab\"/></a>"
      ]
    },
    {
      "cell_type": "markdown",
      "metadata": {
        "id": "I2QcCfuDQzUf",
        "colab_type": "text"
      },
      "source": [
        "# 文本詞語處理\n",
        "Jieba斷詞、\n",
        "FIDF關鍵詞抽取\n",
        "\n",
        "Word2Vec建模、\n",
        "相似詞抽取、\n",
        "斷句處理效能比較\n",
        "\n",
        "---\n",
        "\n",
        "##資料集說明\n",
        "攜程網-酒店評論資料\n",
        "ChnSentiCorp_htl_all \n",
        "\n",
        "5322 Postive, \n",
        "\n",
        "2444 Negtive, \n",
        "\n",
        "[資料來源](https://github.com/SophonPlus/ChineseNlpCorpus/blob/master/datasets/ChnSentiCorp_htl_all/intro.ipynb)\n",
        "\n",
        "---\n",
        "\n",
        "##補充資料\n",
        "GoogleNews-vectors-negative300.bin.gz\n",
        "\n",
        "google 透過 十億多筆新聞資料所訓練的 Word2Vec Model (Eng)\n",
        "\n",
        "[檔案位置](https://drive.google.com/file/d/0B7XkCwpI5KDYNlNUTTlSS21pQmM/edit?usp=sharing)\n",
        "\n"
      ]
    },
    {
      "cell_type": "code",
      "metadata": {
        "id": "P6Qi9F8d9U6o",
        "colab_type": "code",
        "colab": {}
      },
      "source": [
        "import pandas as pd"
      ],
      "execution_count": 0,
      "outputs": []
    },
    {
      "cell_type": "code",
      "metadata": {
        "id": "BHp9RHG69WSL",
        "colab_type": "code",
        "outputId": "0dcd6bd7-89d2-4f2b-be46-853ead81cace",
        "colab": {
          "base_uri": "https://localhost:8080/",
          "height": 68
        }
      },
      "source": [
        "#Colab\n",
        "path = 'drive/My Drive/Colab Notebooks/'\n",
        "#Local\n",
        "#path = './'\n",
        "df = pd.read_csv(path + 'ChnSentiCorp_htl_all.csv')\n",
        "df.label.value_counts()"
      ],
      "execution_count": 0,
      "outputs": [
        {
          "output_type": "execute_result",
          "data": {
            "text/plain": [
              "1    5322\n",
              "0    2444\n",
              "Name: label, dtype: int64"
            ]
          },
          "metadata": {
            "tags": []
          },
          "execution_count": 17
        }
      ]
    },
    {
      "cell_type": "code",
      "metadata": {
        "id": "VTIlGJ-A9pQQ",
        "colab_type": "code",
        "colab": {}
      },
      "source": [
        "!pip install -q jieba\n",
        "import jieba "
      ],
      "execution_count": 0,
      "outputs": []
    },
    {
      "cell_type": "markdown",
      "metadata": {
        "id": "WEK_wVqOqBuL",
        "colab_type": "text"
      },
      "source": [
        "# 結巴斷詞範例\n",
        "\n",
        "## jieba.cut(\"我来到北京清华大学\", cut_all=True)\n",
        "\n",
        "> 【全模式】: 我/ 来到/ 北京/ 清华/ 清华大学/ 华大/ 大学\n",
        "\n",
        "## jieba.cut(\"我来到北京清华大学\", cut_all=False)\n",
        "\n",
        "> 【精确模式】: 我/ 来到/ 北京/ 清华大学\n",
        "\n",
        "## jieba.cut(\"他来到了网易杭研大厦\")\n",
        "\n",
        ">【新词识别】：他, 来到, 了, 网易, 杭研, 大厦    (此处，“杭研”并没有在词典中，但是也被Viterbi算法识别出来了)\n",
        "\n",
        "## jieba.cut_for_search(\"小明硕士毕业于中国科学院计算所，后在日本京都大学深造\")\n",
        "\n",
        "> 【搜索引擎模式】： 小明, 硕士, 毕业, 于, 中国, 科学, 学院, 科学院, 中国科学院, 计算, 计算所, 后, 在, 日本, 京都, 大学, 日本京都大学, 深造"
      ]
    },
    {
      "cell_type": "code",
      "metadata": {
        "id": "pA0m1pVUqHyh",
        "colab_type": "code",
        "colab": {}
      },
      "source": [
        "#採用新詞識別\n",
        "df['jieba_cut'] = df.review.apply(lambda x: list(jieba.cut(str(x))))"
      ],
      "execution_count": 0,
      "outputs": []
    },
    {
      "cell_type": "code",
      "metadata": {
        "id": "YBLcaik19qI0",
        "colab_type": "code",
        "outputId": "5272ce6b-7208-43c0-bbb7-4630cd6ad94e",
        "colab": {
          "base_uri": "https://localhost:8080/",
          "height": 419
        }
      },
      "source": [
        "df"
      ],
      "execution_count": 0,
      "outputs": [
        {
          "output_type": "execute_result",
          "data": {
            "text/html": [
              "<div>\n",
              "<style scoped>\n",
              "    .dataframe tbody tr th:only-of-type {\n",
              "        vertical-align: middle;\n",
              "    }\n",
              "\n",
              "    .dataframe tbody tr th {\n",
              "        vertical-align: top;\n",
              "    }\n",
              "\n",
              "    .dataframe thead th {\n",
              "        text-align: right;\n",
              "    }\n",
              "</style>\n",
              "<table border=\"1\" class=\"dataframe\">\n",
              "  <thead>\n",
              "    <tr style=\"text-align: right;\">\n",
              "      <th></th>\n",
              "      <th>label</th>\n",
              "      <th>review</th>\n",
              "      <th>jieba_cut</th>\n",
              "    </tr>\n",
              "  </thead>\n",
              "  <tbody>\n",
              "    <tr>\n",
              "      <th>0</th>\n",
              "      <td>1</td>\n",
              "      <td>距离川沙公路较近,但是公交指示不对,如果是\"蔡陆线\"的话,会非常麻烦.建议用别的路线.房间较...</td>\n",
              "      <td>[距离, 川沙, 公路, 较近, ,, 但是, 公交, 指示, 不, 对, ,, 如果, 是...</td>\n",
              "    </tr>\n",
              "    <tr>\n",
              "      <th>1</th>\n",
              "      <td>1</td>\n",
              "      <td>商务大床房，房间很大，床有2M宽，整体感觉经济实惠不错!</td>\n",
              "      <td>[商务, 大床, 房, ，, 房间, 很大, ，, 床有, 2M, 宽, ，, 整体, 感觉...</td>\n",
              "    </tr>\n",
              "    <tr>\n",
              "      <th>2</th>\n",
              "      <td>1</td>\n",
              "      <td>早餐太差，无论去多少人，那边也不加食品的。酒店应该重视一下这个问题了。房间本身很好。</td>\n",
              "      <td>[早餐, 太, 差, ，, 无论, 去, 多少, 人, ，, 那边, 也, 不加, 食品, ...</td>\n",
              "    </tr>\n",
              "    <tr>\n",
              "      <th>3</th>\n",
              "      <td>1</td>\n",
              "      <td>宾馆在小街道上，不大好找，但还好北京热心同胞很多~宾馆设施跟介绍的差不多，房间很小，确实挺小...</td>\n",
              "      <td>[宾馆, 在, 小, 街道, 上, ，, 不大好, 找, ，, 但, 还好, 北京, 热心,...</td>\n",
              "    </tr>\n",
              "    <tr>\n",
              "      <th>4</th>\n",
              "      <td>1</td>\n",
              "      <td>CBD中心,周围没什么店铺,说5星有点勉强.不知道为什么卫生间没有电吹风</td>\n",
              "      <td>[CBD, 中心, ,, 周围, 没什么, 店铺, ,, 说, 5, 星, 有点, 勉强, ...</td>\n",
              "    </tr>\n",
              "    <tr>\n",
              "      <th>...</th>\n",
              "      <td>...</td>\n",
              "      <td>...</td>\n",
              "      <td>...</td>\n",
              "    </tr>\n",
              "    <tr>\n",
              "      <th>7761</th>\n",
              "      <td>0</td>\n",
              "      <td>尼斯酒店的几大特点：噪音大、环境差、配置低、服务效率低。如：1、隔壁歌厅的声音闹至午夜3点许...</td>\n",
              "      <td>[尼斯, 酒店, 的, 几大, 特点, ：, 噪音, 大, 、, 环境, 差, 、, 配置,...</td>\n",
              "    </tr>\n",
              "    <tr>\n",
              "      <th>7762</th>\n",
              "      <td>0</td>\n",
              "      <td>盐城来了很多次，第一次住盐阜宾馆，我的确很失望整个墙壁黑咕隆咚的，好像被烟熏过一样家具非常的...</td>\n",
              "      <td>[盐城, 来, 了, 很, 多次, ，, 第一次, 住, 盐阜, 宾馆, ，, 我, 的确,...</td>\n",
              "    </tr>\n",
              "    <tr>\n",
              "      <th>7763</th>\n",
              "      <td>0</td>\n",
              "      <td>看照片觉得还挺不错的，又是4星级的，但入住以后除了后悔没有别的，房间挺大但空空的，早餐是有但...</td>\n",
              "      <td>[看, 照片, 觉得, 还, 挺不错, 的, ，, 又, 是, 4, 星级, 的, ，, 但...</td>\n",
              "    </tr>\n",
              "    <tr>\n",
              "      <th>7764</th>\n",
              "      <td>0</td>\n",
              "      <td>我们去盐城的时候那里的最低气温只有4度，晚上冷得要死，居然还不开空调，投诉到酒店客房部，得到...</td>\n",
              "      <td>[我们, 去, 盐城, 的, 时候, 那里, 的, 最低气温, 只有, 4, 度, ，, 晚...</td>\n",
              "    </tr>\n",
              "    <tr>\n",
              "      <th>7765</th>\n",
              "      <td>0</td>\n",
              "      <td>说实在的我很失望，之前看了其他人的点评后觉得还可以才去的，结果让我们大跌眼镜。我想这家酒店以...</td>\n",
              "      <td>[说, 实在, 的, 我, 很, 失望, ，, 之前, 看, 了, 其他人, 的, 点评, ...</td>\n",
              "    </tr>\n",
              "  </tbody>\n",
              "</table>\n",
              "<p>7766 rows × 3 columns</p>\n",
              "</div>"
            ],
            "text/plain": [
              "      label  ...                                          jieba_cut\n",
              "0         1  ...  [距离, 川沙, 公路, 较近, ,, 但是, 公交, 指示, 不, 对, ,, 如果, 是...\n",
              "1         1  ...  [商务, 大床, 房, ，, 房间, 很大, ，, 床有, 2M, 宽, ，, 整体, 感觉...\n",
              "2         1  ...  [早餐, 太, 差, ，, 无论, 去, 多少, 人, ，, 那边, 也, 不加, 食品, ...\n",
              "3         1  ...  [宾馆, 在, 小, 街道, 上, ，, 不大好, 找, ，, 但, 还好, 北京, 热心,...\n",
              "4         1  ...  [CBD, 中心, ,, 周围, 没什么, 店铺, ,, 说, 5, 星, 有点, 勉强, ...\n",
              "...     ...  ...                                                ...\n",
              "7761      0  ...  [尼斯, 酒店, 的, 几大, 特点, ：, 噪音, 大, 、, 环境, 差, 、, 配置,...\n",
              "7762      0  ...  [盐城, 来, 了, 很, 多次, ，, 第一次, 住, 盐阜, 宾馆, ，, 我, 的确,...\n",
              "7763      0  ...  [看, 照片, 觉得, 还, 挺不错, 的, ，, 又, 是, 4, 星级, 的, ，, 但...\n",
              "7764      0  ...  [我们, 去, 盐城, 的, 时候, 那里, 的, 最低气温, 只有, 4, 度, ，, 晚...\n",
              "7765      0  ...  [说, 实在, 的, 我, 很, 失望, ，, 之前, 看, 了, 其他人, 的, 点评, ...\n",
              "\n",
              "[7766 rows x 3 columns]"
            ]
          },
          "metadata": {
            "tags": []
          },
          "execution_count": 30
        }
      ]
    },
    {
      "cell_type": "markdown",
      "metadata": {
        "id": "pAxIAu6Z39KX",
        "colab_type": "text"
      },
      "source": [
        "#TF-IDF 關鍵詞抽取"
      ]
    },
    {
      "cell_type": "code",
      "metadata": {
        "id": "Sg71DtTarRlQ",
        "colab_type": "code",
        "outputId": "43ff64ad-47ab-4417-e4e5-d413553f05be",
        "colab": {
          "base_uri": "https://localhost:8080/",
          "height": 34
        }
      },
      "source": [
        "import jieba.analyse\n",
        "jieba.analyse.extract_tags(df.review[10], topK=10, withWeight=False, allowPOS=())"
      ],
      "execution_count": 0,
      "outputs": [
        {
          "output_type": "execute_result",
          "data": {
            "text/plain": [
              "['冰箱', '桌子', '感觉', '特色', '正好', '寝具', '配在一起', '标间', '加菲猫', '3.5']"
            ]
          },
          "metadata": {
            "tags": []
          },
          "execution_count": 34
        }
      ]
    },
    {
      "cell_type": "markdown",
      "metadata": {
        "id": "ivo2Nfqa4J0k",
        "colab_type": "text"
      },
      "source": [
        "# TextRank 關鍵詞抽取"
      ]
    },
    {
      "cell_type": "code",
      "metadata": {
        "id": "J5XvepwYz_Pe",
        "colab_type": "code",
        "outputId": "d9a9945f-23e4-46bb-c108-d60672fb9041",
        "colab": {
          "base_uri": "https://localhost:8080/",
          "height": 34
        }
      },
      "source": [
        "jieba.analyse.textrank(df.review[10], topK=10, withWeight=False, allowPOS=('ns', 'n', 'vn', 'v'))"
      ],
      "execution_count": 0,
      "outputs": [
        {
          "output_type": "execute_result",
          "data": {
            "text/plain": [
              "['桌子', '感觉', '冰箱', '协调', '有点', '特色', '工作', '评价', '上网', '客房']"
            ]
          },
          "metadata": {
            "tags": []
          },
          "execution_count": 35
        }
      ]
    },
    {
      "cell_type": "markdown",
      "metadata": {
        "id": "3NpKVfIzK4nn",
        "colab_type": "text"
      },
      "source": [
        ""
      ]
    },
    {
      "cell_type": "markdown",
      "metadata": {
        "id": "GvQTxhkR4ZoZ",
        "colab_type": "text"
      },
      "source": [
        "# Tokenize & indexing "
      ]
    },
    {
      "cell_type": "code",
      "metadata": {
        "id": "6DEJvU_n1AQa",
        "colab_type": "code",
        "outputId": "5aea7587-ae84-4e7d-be0d-656ffd7efddf",
        "colab": {
          "base_uri": "https://localhost:8080/",
          "height": 476
        }
      },
      "source": [
        "result = jieba.tokenize(df.review[5], mode='search')\n",
        "for tk in result:\n",
        "    print(\"<{:5}>\\t start: {} \\t end:{}\".format(tk[0],tk[1],tk[2]))"
      ],
      "execution_count": 0,
      "outputs": [
        {
          "output_type": "stream",
          "text": [
            "<来说   >\t start: 2 \t end:4\n",
            "<总的来说 >\t start: 0 \t end:4\n",
            "<，    >\t start: 4 \t end:5\n",
            "<这样   >\t start: 5 \t end:7\n",
            "<的    >\t start: 7 \t end:8\n",
            "<酒店   >\t start: 8 \t end:10\n",
            "<配    >\t start: 10 \t end:11\n",
            "<这样   >\t start: 11 \t end:13\n",
            "<的    >\t start: 13 \t end:14\n",
            "<价格   >\t start: 14 \t end:16\n",
            "<还    >\t start: 16 \t end:17\n",
            "<算    >\t start: 17 \t end:18\n",
            "<可以   >\t start: 18 \t end:20\n",
            "<，    >\t start: 20 \t end:21\n",
            "<希望   >\t start: 21 \t end:23\n",
            "<他    >\t start: 23 \t end:24\n",
            "<赶快   >\t start: 24 \t end:26\n",
            "<装修   >\t start: 26 \t end:28\n",
            "<，    >\t start: 28 \t end:29\n",
            "<给    >\t start: 29 \t end:30\n",
            "<我    >\t start: 30 \t end:31\n",
            "<的    >\t start: 31 \t end:32\n",
            "<客人   >\t start: 32 \t end:34\n",
            "<留些   >\t start: 34 \t end:36\n",
            "<好    >\t start: 36 \t end:37\n",
            "<的    >\t start: 37 \t end:38\n",
            "<印象   >\t start: 38 \t end:40\n"
          ],
          "name": "stdout"
        }
      ]
    },
    {
      "cell_type": "markdown",
      "metadata": {
        "id": "SjONVE6fCLc5",
        "colab_type": "text"
      },
      "source": [
        "# Word2Vec 模型\n",
        "##斷句前 \n",
        "\n",
        "文本數:7,765\n",
        "\n",
        "平均字數:128\n",
        "\n",
        "字數中位數:84"
      ]
    },
    {
      "cell_type": "code",
      "metadata": {
        "id": "v9Xv84KHSkl6",
        "colab_type": "code",
        "outputId": "86e0a05f-ce1e-45ca-fbab-9c234e6c4d53",
        "colab": {
          "base_uri": "https://localhost:8080/",
          "height": 282
        }
      },
      "source": [
        "#500字內 的 篇數分布\n",
        "#X軸為篇數 \n",
        "#Y軸為字數\n",
        "df.review.str.len().value_counts().sort_index()[:500].plot()"
      ],
      "execution_count": 0,
      "outputs": [
        {
          "output_type": "execute_result",
          "data": {
            "text/plain": [
              "<matplotlib.axes._subplots.AxesSubplot at 0x7fabedf98320>"
            ]
          },
          "metadata": {
            "tags": []
          },
          "execution_count": 174
        },
        {
          "output_type": "display_data",
          "data": {
            "image/png": "[encoded data removed]",
            "text/plain": [
              "<Figure size 432x288 with 1 Axes>"
            ]
          },
          "metadata": {
            "tags": []
          }
        }
      ]
    },
    {
      "cell_type": "code",
      "metadata": {
        "id": "qtia0FbGTG4-",
        "colab_type": "code",
        "outputId": "5ade612d-1358-4a61-f0ae-039850217ce6",
        "colab": {
          "base_uri": "https://localhost:8080/",
          "height": 170
        }
      },
      "source": [
        "df.review.str.len().describe()"
      ],
      "execution_count": 0,
      "outputs": [
        {
          "output_type": "execute_result",
          "data": {
            "text/plain": [
              "count    7765.000000\n",
              "mean      128.518609\n",
              "std       143.629370\n",
              "min         2.000000\n",
              "25%        45.000000\n",
              "50%        84.000000\n",
              "75%       154.000000\n",
              "max      2924.000000\n",
              "Name: review, dtype: float64"
            ]
          },
          "metadata": {
            "tags": []
          },
          "execution_count": 176
        }
      ]
    },
    {
      "cell_type": "markdown",
      "metadata": {
        "id": "v4xFhhv8TxqS",
        "colab_type": "text"
      },
      "source": [
        "# 安裝Word2Vec 套件\n",
        "取相似詞 Top 10"
      ]
    },
    {
      "cell_type": "code",
      "metadata": {
        "id": "xVsQVNFF6PLD",
        "colab_type": "code",
        "colab": {}
      },
      "source": [
        "!pip install -q gensim\n",
        "from gensim.models.word2vec import Word2Vec\n",
        "\n",
        "def most_similar(w2v_model, words, topn=10):\n",
        "    similar_df = pd.DataFrame()\n",
        "    for word in words:\n",
        "        try:\n",
        "            similar_words = pd.DataFrame(w2v_model.wv.most_similar(word, topn=topn), columns=[word, 'cos'])\n",
        "            similar_df = pd.concat([similar_df, similar_words], axis=1)\n",
        "        except:\n",
        "            print(word, \"not found in Word2Vec model!\")\n",
        "    return similar_df\n"
      ],
      "execution_count": 0,
      "outputs": []
    },
    {
      "cell_type": "markdown",
      "metadata": {
        "id": "vF_WBgOGT9Li",
        "colab_type": "text"
      },
      "source": [
        "# 全文斷詞後，直接用 Word2Vec 建模"
      ]
    },
    {
      "cell_type": "code",
      "metadata": {
        "id": "8gXMPGZYBOhx",
        "colab_type": "code",
        "outputId": "80a81d41-7dd9-422a-c69c-9965df349943",
        "colab": {
          "base_uri": "https://localhost:8080/",
          "height": 413
        }
      },
      "source": [
        "wv_model = Word2Vec(df.jieba_cut)\n",
        "#尋找相似詞 top10\n",
        "most_similar(wv_model,['酒店','房间','硬件','价格'],10)"
      ],
      "execution_count": 0,
      "outputs": [
        {
          "output_type": "stream",
          "text": [
            "/usr/local/lib/python3.6/dist-packages/gensim/matutils.py:737: FutureWarning: Conversion of the second argument of issubdtype from `int` to `np.signedinteger` is deprecated. In future, it will be treated as `np.int64 == np.dtype(int).type`.\n",
            "  if np.issubdtype(vec.dtype, np.int):\n"
          ],
          "name": "stderr"
        },
        {
          "output_type": "execute_result",
          "data": {
            "text/html": [
              "<div>\n",
              "<style scoped>\n",
              "    .dataframe tbody tr th:only-of-type {\n",
              "        vertical-align: middle;\n",
              "    }\n",
              "\n",
              "    .dataframe tbody tr th {\n",
              "        vertical-align: top;\n",
              "    }\n",
              "\n",
              "    .dataframe thead th {\n",
              "        text-align: right;\n",
              "    }\n",
              "</style>\n",
              "<table border=\"1\" class=\"dataframe\">\n",
              "  <thead>\n",
              "    <tr style=\"text-align: right;\">\n",
              "      <th></th>\n",
              "      <th>酒店</th>\n",
              "      <th>cos</th>\n",
              "      <th>房间</th>\n",
              "      <th>cos</th>\n",
              "      <th>硬件</th>\n",
              "      <th>cos</th>\n",
              "      <th>价格</th>\n",
              "      <th>cos</th>\n",
              "    </tr>\n",
              "  </thead>\n",
              "  <tbody>\n",
              "    <tr>\n",
              "      <th>0</th>\n",
              "      <td>饭店</td>\n",
              "      <td>0.737156</td>\n",
              "      <td>床</td>\n",
              "      <td>0.800760</td>\n",
              "      <td>软件</td>\n",
              "      <td>0.934986</td>\n",
              "      <td>房价</td>\n",
              "      <td>0.921848</td>\n",
              "    </tr>\n",
              "    <tr>\n",
              "      <th>1</th>\n",
              "      <td>店</td>\n",
              "      <td>0.724040</td>\n",
              "      <td>洗手间</td>\n",
              "      <td>0.779274</td>\n",
              "      <td>酒店设施</td>\n",
              "      <td>0.909656</td>\n",
              "      <td>价钱</td>\n",
              "      <td>0.828698</td>\n",
              "    </tr>\n",
              "    <tr>\n",
              "      <th>2</th>\n",
              "      <td>如家</td>\n",
              "      <td>0.637314</td>\n",
              "      <td>卫生间</td>\n",
              "      <td>0.778058</td>\n",
              "      <td>方面</td>\n",
              "      <td>0.901275</td>\n",
              "      <td>便宜</td>\n",
              "      <td>0.825944</td>\n",
              "    </tr>\n",
              "    <tr>\n",
              "      <th>3</th>\n",
              "      <td>价位</td>\n",
              "      <td>0.617868</td>\n",
              "      <td>空间</td>\n",
              "      <td>0.773016</td>\n",
              "      <td>内部</td>\n",
              "      <td>0.895138</td>\n",
              "      <td>价位</td>\n",
              "      <td>0.774556</td>\n",
              "    </tr>\n",
              "    <tr>\n",
              "      <th>4</th>\n",
              "      <td>城市</td>\n",
              "      <td>0.609988</td>\n",
              "      <td>房间内</td>\n",
              "      <td>0.749950</td>\n",
              "      <td>条件</td>\n",
              "      <td>0.893961</td>\n",
              "      <td>378</td>\n",
              "      <td>0.765632</td>\n",
              "    </tr>\n",
              "    <tr>\n",
              "      <th>5</th>\n",
              "      <td>评价</td>\n",
              "      <td>0.609773</td>\n",
              "      <td>窗户</td>\n",
              "      <td>0.747342</td>\n",
              "      <td>一流</td>\n",
              "      <td>0.879864</td>\n",
              "      <td>性价比</td>\n",
              "      <td>0.751362</td>\n",
              "    </tr>\n",
              "    <tr>\n",
              "      <th>6</th>\n",
              "      <td>宾馆</td>\n",
              "      <td>0.593999</td>\n",
              "      <td>很大</td>\n",
              "      <td>0.747025</td>\n",
              "      <td>环境</td>\n",
              "      <td>0.876628</td>\n",
              "      <td>比</td>\n",
              "      <td>0.738778</td>\n",
              "    </tr>\n",
              "    <tr>\n",
              "      <th>7</th>\n",
              "      <td>中</td>\n",
              "      <td>0.581743</td>\n",
              "      <td>楼层</td>\n",
              "      <td>0.745283</td>\n",
              "      <td>各</td>\n",
              "      <td>0.876616</td>\n",
              "      <td>贵</td>\n",
              "      <td>0.732392</td>\n",
              "    </tr>\n",
              "    <tr>\n",
              "      <th>8</th>\n",
              "      <td>住宿</td>\n",
              "      <td>0.571223</td>\n",
              "      <td>面积</td>\n",
              "      <td>0.744198</td>\n",
              "      <td>设施</td>\n",
              "      <td>0.875550</td>\n",
              "      <td>对得起</td>\n",
              "      <td>0.717570</td>\n",
              "    </tr>\n",
              "    <tr>\n",
              "      <th>9</th>\n",
              "      <td>评分</td>\n",
              "      <td>0.570940</td>\n",
              "      <td>浴室</td>\n",
              "      <td>0.742106</td>\n",
              "      <td>整体</td>\n",
              "      <td>0.870948</td>\n",
              "      <td>实惠</td>\n",
              "      <td>0.712047</td>\n",
              "    </tr>\n",
              "  </tbody>\n",
              "</table>\n",
              "</div>"
            ],
            "text/plain": [
              "   酒店       cos   房间       cos    硬件       cos   价格       cos\n",
              "0  饭店  0.737156    床  0.800760    软件  0.934986   房价  0.921848\n",
              "1   店  0.724040  洗手间  0.779274  酒店设施  0.909656   价钱  0.828698\n",
              "2  如家  0.637314  卫生间  0.778058    方面  0.901275   便宜  0.825944\n",
              "3  价位  0.617868   空间  0.773016    内部  0.895138   价位  0.774556\n",
              "4  城市  0.609988  房间内  0.749950    条件  0.893961  378  0.765632\n",
              "5  评价  0.609773   窗户  0.747342    一流  0.879864  性价比  0.751362\n",
              "6  宾馆  0.593999   很大  0.747025    环境  0.876628    比  0.738778\n",
              "7   中  0.581743   楼层  0.745283     各  0.876616    贵  0.732392\n",
              "8  住宿  0.571223   面积  0.744198    设施  0.875550  对得起  0.717570\n",
              "9  评分  0.570940   浴室  0.742106    整体  0.870948   实惠  0.712047"
            ]
          },
          "metadata": {
            "tags": []
          },
          "execution_count": 189
        }
      ]
    },
    {
      "cell_type": "markdown",
      "metadata": {
        "id": "3ycYz4n0UL5x",
        "colab_type": "text"
      },
      "source": [
        "# 全文斷詞後，直接用 Word2Vec 建模\n",
        "# 設定維度 = 250 , iter 8 次"
      ]
    },
    {
      "cell_type": "code",
      "metadata": {
        "id": "xjb3qhzm6KaX",
        "colab_type": "code",
        "outputId": "44905b8a-a000-4a0c-df94-a20cffbfd13b",
        "colab": {
          "base_uri": "https://localhost:8080/",
          "height": 413
        }
      },
      "source": [
        "wv_model_iter = Word2Vec(df.jieba_cut, size=250, iter=8)\n",
        "#尋找相似詞 top10\n",
        "most_similar(wv_model_iter,['酒店','房间','硬件','价格'],10)"
      ],
      "execution_count": 0,
      "outputs": [
        {
          "output_type": "stream",
          "text": [
            "/usr/local/lib/python3.6/dist-packages/gensim/matutils.py:737: FutureWarning: Conversion of the second argument of issubdtype from `int` to `np.signedinteger` is deprecated. In future, it will be treated as `np.int64 == np.dtype(int).type`.\n",
            "  if np.issubdtype(vec.dtype, np.int):\n"
          ],
          "name": "stderr"
        },
        {
          "output_type": "execute_result",
          "data": {
            "text/html": [
              "<div>\n",
              "<style scoped>\n",
              "    .dataframe tbody tr th:only-of-type {\n",
              "        vertical-align: middle;\n",
              "    }\n",
              "\n",
              "    .dataframe tbody tr th {\n",
              "        vertical-align: top;\n",
              "    }\n",
              "\n",
              "    .dataframe thead th {\n",
              "        text-align: right;\n",
              "    }\n",
              "</style>\n",
              "<table border=\"1\" class=\"dataframe\">\n",
              "  <thead>\n",
              "    <tr style=\"text-align: right;\">\n",
              "      <th></th>\n",
              "      <th>酒店</th>\n",
              "      <th>cos</th>\n",
              "      <th>房间</th>\n",
              "      <th>cos</th>\n",
              "      <th>硬件</th>\n",
              "      <th>cos</th>\n",
              "      <th>价格</th>\n",
              "      <th>cos</th>\n",
              "    </tr>\n",
              "  </thead>\n",
              "  <tbody>\n",
              "    <tr>\n",
              "      <th>0</th>\n",
              "      <td>店</td>\n",
              "      <td>0.720402</td>\n",
              "      <td>卫生间</td>\n",
              "      <td>0.648387</td>\n",
              "      <td>软件</td>\n",
              "      <td>0.896753</td>\n",
              "      <td>房价</td>\n",
              "      <td>0.916905</td>\n",
              "    </tr>\n",
              "    <tr>\n",
              "      <th>1</th>\n",
              "      <td>饭店</td>\n",
              "      <td>0.681714</td>\n",
              "      <td>房间内</td>\n",
              "      <td>0.632758</td>\n",
              "      <td>水准</td>\n",
              "      <td>0.835112</td>\n",
              "      <td>价钱</td>\n",
              "      <td>0.851620</td>\n",
              "    </tr>\n",
              "    <tr>\n",
              "      <th>2</th>\n",
              "      <td>宾馆</td>\n",
              "      <td>0.656186</td>\n",
              "      <td>空间</td>\n",
              "      <td>0.607401</td>\n",
              "      <td>酒店设施</td>\n",
              "      <td>0.827004</td>\n",
              "      <td>价位</td>\n",
              "      <td>0.745924</td>\n",
              "    </tr>\n",
              "    <tr>\n",
              "      <th>3</th>\n",
              "      <td>城市</td>\n",
              "      <td>0.567181</td>\n",
              "      <td>套间</td>\n",
              "      <td>0.606997</td>\n",
              "      <td>整体</td>\n",
              "      <td>0.799646</td>\n",
              "      <td>价</td>\n",
              "      <td>0.720438</td>\n",
              "    </tr>\n",
              "    <tr>\n",
              "      <th>4</th>\n",
              "      <td>价位</td>\n",
              "      <td>0.529863</td>\n",
              "      <td>洗手间</td>\n",
              "      <td>0.606929</td>\n",
              "      <td>外观</td>\n",
              "      <td>0.795895</td>\n",
              "      <td>性价比</td>\n",
              "      <td>0.703375</td>\n",
              "    </tr>\n",
              "    <tr>\n",
              "      <th>5</th>\n",
              "      <td>大厦</td>\n",
              "      <td>0.502172</td>\n",
              "      <td>房</td>\n",
              "      <td>0.605887</td>\n",
              "      <td>条件</td>\n",
              "      <td>0.792738</td>\n",
              "      <td>太贵</td>\n",
              "      <td>0.694404</td>\n",
              "    </tr>\n",
              "    <tr>\n",
              "      <th>6</th>\n",
              "      <td>才定</td>\n",
              "      <td>0.499729</td>\n",
              "      <td>床</td>\n",
              "      <td>0.598306</td>\n",
              "      <td>内部</td>\n",
              "      <td>0.784254</td>\n",
              "      <td>便宜</td>\n",
              "      <td>0.686487</td>\n",
              "    </tr>\n",
              "    <tr>\n",
              "      <th>7</th>\n",
              "      <td>山庄</td>\n",
              "      <td>0.490893</td>\n",
              "      <td>套房</td>\n",
              "      <td>0.596891</td>\n",
              "      <td>各</td>\n",
              "      <td>0.775184</td>\n",
              "      <td>不值</td>\n",
              "      <td>0.651661</td>\n",
              "    </tr>\n",
              "    <tr>\n",
              "      <th>8</th>\n",
              "      <td>度假村</td>\n",
              "      <td>0.483745</td>\n",
              "      <td>房子</td>\n",
              "      <td>0.576412</td>\n",
              "      <td>来讲</td>\n",
              "      <td>0.774191</td>\n",
              "      <td>条件</td>\n",
              "      <td>0.628992</td>\n",
              "    </tr>\n",
              "    <tr>\n",
              "      <th>9</th>\n",
              "      <td>其</td>\n",
              "      <td>0.465956</td>\n",
              "      <td>烟味</td>\n",
              "      <td>0.572568</td>\n",
              "      <td>一流</td>\n",
              "      <td>0.768642</td>\n",
              "      <td>188</td>\n",
              "      <td>0.625722</td>\n",
              "    </tr>\n",
              "  </tbody>\n",
              "</table>\n",
              "</div>"
            ],
            "text/plain": [
              "    酒店       cos   房间       cos    硬件       cos   价格       cos\n",
              "0    店  0.720402  卫生间  0.648387    软件  0.896753   房价  0.916905\n",
              "1   饭店  0.681714  房间内  0.632758    水准  0.835112   价钱  0.851620\n",
              "2   宾馆  0.656186   空间  0.607401  酒店设施  0.827004   价位  0.745924\n",
              "3   城市  0.567181   套间  0.606997    整体  0.799646    价  0.720438\n",
              "4   价位  0.529863  洗手间  0.606929    外观  0.795895  性价比  0.703375\n",
              "5   大厦  0.502172    房  0.605887    条件  0.792738   太贵  0.694404\n",
              "6   才定  0.499729    床  0.598306    内部  0.784254   便宜  0.686487\n",
              "7   山庄  0.490893   套房  0.596891     各  0.775184   不值  0.651661\n",
              "8  度假村  0.483745   房子  0.576412    来讲  0.774191   条件  0.628992\n",
              "9    其  0.465956   烟味  0.572568    一流  0.768642  188  0.625722"
            ]
          },
          "metadata": {
            "tags": []
          },
          "execution_count": 66
        }
      ]
    },
    {
      "cell_type": "markdown",
      "metadata": {
        "id": "rrdK4WIbSZMz",
        "colab_type": "text"
      },
      "source": [
        "# Word2Vec 模型\n",
        "##斷句後\n",
        "文本數:101,459\n",
        "\n",
        "平均字數:8\n",
        "\n",
        "字數中位數:8\n"
      ]
    },
    {
      "cell_type": "code",
      "metadata": {
        "id": "u0p2PCfvVPSD",
        "colab_type": "code",
        "outputId": "c981e9d9-2024-41b4-9667-e4fe410c3b3f",
        "colab": {
          "base_uri": "https://localhost:8080/",
          "height": 170
        }
      },
      "source": [
        "sent_df = pd.DataFrame(res_reviews)\n",
        "sent_df[0].str.len().describe()"
      ],
      "execution_count": 0,
      "outputs": [
        {
          "output_type": "execute_result",
          "data": {
            "text/plain": [
              "count    101459.000000\n",
              "mean          8.791384\n",
              "std           5.680800\n",
              "min           1.000000\n",
              "25%           5.000000\n",
              "50%           8.000000\n",
              "75%          11.000000\n",
              "max         367.000000\n",
              "Name: 0, dtype: float64"
            ]
          },
          "metadata": {
            "tags": []
          },
          "execution_count": 185
        }
      ]
    },
    {
      "cell_type": "code",
      "metadata": {
        "id": "AuZEpXJsUp9L",
        "colab_type": "code",
        "outputId": "f9b36e33-2c3d-42c5-ba38-051a8d64041e",
        "colab": {
          "base_uri": "https://localhost:8080/",
          "height": 282
        }
      },
      "source": [
        "sent_df[0].str.len().value_counts().sort_index().plot()"
      ],
      "execution_count": 0,
      "outputs": [
        {
          "output_type": "execute_result",
          "data": {
            "text/plain": [
              "<matplotlib.axes._subplots.AxesSubplot at 0x7fabf2616a20>"
            ]
          },
          "metadata": {
            "tags": []
          },
          "execution_count": 188
        },
        {
          "output_type": "display_data",
          "data": {
            "image/png": "[encoded data removed]",
            "text/plain": [
              "<Figure size 432x288 with 1 Axes>"
            ]
          },
          "metadata": {
            "tags": []
          }
        }
      ]
    },
    {
      "cell_type": "code",
      "metadata": {
        "id": "1hqy2lBY8Zdk",
        "colab_type": "code",
        "colab": {}
      },
      "source": [
        "reviews = list(df.review)\n",
        "\n",
        "def split_sentence(articles,char_list):\n",
        "  res = articles\n",
        "  #統一所有標點符號為'全型逗號'\n",
        "  for c in char_list:\n",
        "    res = [str(x).replace(c,'，') for x in res]\n",
        "  \n",
        "  sentences = []\n",
        "  \n",
        "  #斷句\n",
        "  for s in res:\n",
        "    sentences += s.split('，')\n",
        "  \n",
        "  #刪除空白\n",
        "  #sentences = [list(jieba.cut(i)) for i in sentences if i] \n",
        "  sentences = [i for i in sentences if i] \n",
        "  return sentences\n",
        "\n",
        "char_list=[',','！','!','?','？','.','。','\"','、','（','(','）',')',':','：',';','；','“','~','．','…']\n",
        "res_reviews = split_sentence(reviews,char_list)"
      ],
      "execution_count": 0,
      "outputs": []
    },
    {
      "cell_type": "markdown",
      "metadata": {
        "id": "z4s_9CukUmDJ",
        "colab_type": "text"
      },
      "source": [
        "#全文斷句後，再斷詞\n",
        "#直接用 Word2Vec 建模\n"
      ]
    },
    {
      "cell_type": "code",
      "metadata": {
        "id": "AjKqpvLCIaw0",
        "colab_type": "code",
        "outputId": "01e80080-c436-4237-eda4-858179bbe467",
        "colab": {
          "base_uri": "https://localhost:8080/",
          "height": 413
        }
      },
      "source": [
        "wv_model_sentence = Word2Vec(res_reviews)\n",
        "#尋找相似詞 top10\n",
        "most_similar(wv_model_sentence,['酒店','房间','硬件','价格'],10)"
      ],
      "execution_count": 0,
      "outputs": [
        {
          "output_type": "stream",
          "text": [
            "/usr/local/lib/python3.6/dist-packages/gensim/matutils.py:737: FutureWarning: Conversion of the second argument of issubdtype from `int` to `np.signedinteger` is deprecated. In future, it will be treated as `np.int64 == np.dtype(int).type`.\n",
            "  if np.issubdtype(vec.dtype, np.int):\n"
          ],
          "name": "stderr"
        },
        {
          "output_type": "execute_result",
          "data": {
            "text/html": [
              "<div>\n",
              "<style scoped>\n",
              "    .dataframe tbody tr th:only-of-type {\n",
              "        vertical-align: middle;\n",
              "    }\n",
              "\n",
              "    .dataframe tbody tr th {\n",
              "        vertical-align: top;\n",
              "    }\n",
              "\n",
              "    .dataframe thead th {\n",
              "        text-align: right;\n",
              "    }\n",
              "</style>\n",
              "<table border=\"1\" class=\"dataframe\">\n",
              "  <thead>\n",
              "    <tr style=\"text-align: right;\">\n",
              "      <th></th>\n",
              "      <th>酒店</th>\n",
              "      <th>cos</th>\n",
              "      <th>房间</th>\n",
              "      <th>cos</th>\n",
              "      <th>硬件</th>\n",
              "      <th>cos</th>\n",
              "      <th>价格</th>\n",
              "      <th>cos</th>\n",
              "    </tr>\n",
              "  </thead>\n",
              "  <tbody>\n",
              "    <tr>\n",
              "      <th>0</th>\n",
              "      <td>饭店</td>\n",
              "      <td>0.827245</td>\n",
              "      <td>卫生间</td>\n",
              "      <td>0.700566</td>\n",
              "      <td>软件</td>\n",
              "      <td>0.949422</td>\n",
              "      <td>房价</td>\n",
              "      <td>0.917330</td>\n",
              "    </tr>\n",
              "    <tr>\n",
              "      <th>1</th>\n",
              "      <td>宾馆</td>\n",
              "      <td>0.779875</td>\n",
              "      <td>洗手间</td>\n",
              "      <td>0.649195</td>\n",
              "      <td>水平</td>\n",
              "      <td>0.919609</td>\n",
              "      <td>价钱</td>\n",
              "      <td>0.817651</td>\n",
              "    </tr>\n",
              "    <tr>\n",
              "      <th>2</th>\n",
              "      <td>店</td>\n",
              "      <td>0.720168</td>\n",
              "      <td>房间内</td>\n",
              "      <td>0.627587</td>\n",
              "      <td>内部</td>\n",
              "      <td>0.905105</td>\n",
              "      <td>价位</td>\n",
              "      <td>0.779507</td>\n",
              "    </tr>\n",
              "    <tr>\n",
              "      <th>3</th>\n",
              "      <td>价位</td>\n",
              "      <td>0.616445</td>\n",
              "      <td>浴室</td>\n",
              "      <td>0.626016</td>\n",
              "      <td>条件</td>\n",
              "      <td>0.891198</td>\n",
              "      <td>性价比</td>\n",
              "      <td>0.736289</td>\n",
              "    </tr>\n",
              "    <tr>\n",
              "      <th>4</th>\n",
              "      <td>城市</td>\n",
              "      <td>0.603783</td>\n",
              "      <td>但</td>\n",
              "      <td>0.623210</td>\n",
              "      <td>来讲</td>\n",
              "      <td>0.884382</td>\n",
              "      <td>便宜</td>\n",
              "      <td>0.689712</td>\n",
              "    </tr>\n",
              "    <tr>\n",
              "      <th>5</th>\n",
              "      <td>大酒店</td>\n",
              "      <td>0.597991</td>\n",
              "      <td>浴缸</td>\n",
              "      <td>0.622066</td>\n",
              "      <td>水准</td>\n",
              "      <td>0.883236</td>\n",
              "      <td>390</td>\n",
              "      <td>0.661284</td>\n",
              "    </tr>\n",
              "    <tr>\n",
              "      <th>6</th>\n",
              "      <td>家</td>\n",
              "      <td>0.575177</td>\n",
              "      <td>空间</td>\n",
              "      <td>0.611415</td>\n",
              "      <td>整体</td>\n",
              "      <td>0.875647</td>\n",
              "      <td>价</td>\n",
              "      <td>0.639219</td>\n",
              "    </tr>\n",
              "    <tr>\n",
              "      <th>7</th>\n",
              "      <td>当地</td>\n",
              "      <td>0.568566</td>\n",
              "      <td>院子</td>\n",
              "      <td>0.610414</td>\n",
              "      <td>各</td>\n",
              "      <td>0.866805</td>\n",
              "      <td>评分</td>\n",
              "      <td>0.618364</td>\n",
              "    </tr>\n",
              "    <tr>\n",
              "      <th>8</th>\n",
              "      <td>中</td>\n",
              "      <td>0.565927</td>\n",
              "      <td>大堂</td>\n",
              "      <td>0.604457</td>\n",
              "      <td>设施</td>\n",
              "      <td>0.863101</td>\n",
              "      <td>270</td>\n",
              "      <td>0.615922</td>\n",
              "    </tr>\n",
              "    <tr>\n",
              "      <th>9</th>\n",
              "      <td>作为</td>\n",
              "      <td>0.565668</td>\n",
              "      <td>毛巾</td>\n",
              "      <td>0.604262</td>\n",
              "      <td>环境</td>\n",
              "      <td>0.859725</td>\n",
              "      <td>160</td>\n",
              "      <td>0.612320</td>\n",
              "    </tr>\n",
              "  </tbody>\n",
              "</table>\n",
              "</div>"
            ],
            "text/plain": [
              "    酒店       cos   房间       cos  硬件       cos   价格       cos\n",
              "0   饭店  0.827245  卫生间  0.700566  软件  0.949422   房价  0.917330\n",
              "1   宾馆  0.779875  洗手间  0.649195  水平  0.919609   价钱  0.817651\n",
              "2    店  0.720168  房间内  0.627587  内部  0.905105   价位  0.779507\n",
              "3   价位  0.616445   浴室  0.626016  条件  0.891198  性价比  0.736289\n",
              "4   城市  0.603783    但  0.623210  来讲  0.884382   便宜  0.689712\n",
              "5  大酒店  0.597991   浴缸  0.622066  水准  0.883236  390  0.661284\n",
              "6    家  0.575177   空间  0.611415  整体  0.875647    价  0.639219\n",
              "7   当地  0.568566   院子  0.610414   各  0.866805   评分  0.618364\n",
              "8    中  0.565927   大堂  0.604457  设施  0.863101  270  0.615922\n",
              "9   作为  0.565668   毛巾  0.604262  环境  0.859725  160  0.612320"
            ]
          },
          "metadata": {
            "tags": []
          },
          "execution_count": 164
        }
      ]
    },
    {
      "cell_type": "markdown",
      "metadata": {
        "id": "6c1OCS9XY4U_",
        "colab_type": "text"
      },
      "source": [
        "#全文斷句後，再斷詞\n",
        "#設定維度 = 250 , iter 8 次"
      ]
    },
    {
      "cell_type": "code",
      "metadata": {
        "id": "GQaipbo1JfzG",
        "colab_type": "code",
        "outputId": "8e4785ac-1de0-4409-dc8a-9bdddcbafec0",
        "colab": {
          "base_uri": "https://localhost:8080/",
          "height": 413
        }
      },
      "source": [
        "wv_model_sentence_iter = Word2Vec(res_reviews,size=250,iter=8)\n",
        "#尋找相似詞 top10\n",
        "most_similar(wv_model_sentence_iter,['酒店','房间','硬件','价格'],10)"
      ],
      "execution_count": 0,
      "outputs": [
        {
          "output_type": "stream",
          "text": [
            "/usr/local/lib/python3.6/dist-packages/gensim/matutils.py:737: FutureWarning: Conversion of the second argument of issubdtype from `int` to `np.signedinteger` is deprecated. In future, it will be treated as `np.int64 == np.dtype(int).type`.\n",
            "  if np.issubdtype(vec.dtype, np.int):\n"
          ],
          "name": "stderr"
        },
        {
          "output_type": "execute_result",
          "data": {
            "text/html": [
              "<div>\n",
              "<style scoped>\n",
              "    .dataframe tbody tr th:only-of-type {\n",
              "        vertical-align: middle;\n",
              "    }\n",
              "\n",
              "    .dataframe tbody tr th {\n",
              "        vertical-align: top;\n",
              "    }\n",
              "\n",
              "    .dataframe thead th {\n",
              "        text-align: right;\n",
              "    }\n",
              "</style>\n",
              "<table border=\"1\" class=\"dataframe\">\n",
              "  <thead>\n",
              "    <tr style=\"text-align: right;\">\n",
              "      <th></th>\n",
              "      <th>酒店</th>\n",
              "      <th>cos</th>\n",
              "      <th>房间</th>\n",
              "      <th>cos</th>\n",
              "      <th>硬件</th>\n",
              "      <th>cos</th>\n",
              "      <th>价格</th>\n",
              "      <th>cos</th>\n",
              "    </tr>\n",
              "  </thead>\n",
              "  <tbody>\n",
              "    <tr>\n",
              "      <th>0</th>\n",
              "      <td>宾馆</td>\n",
              "      <td>0.788654</td>\n",
              "      <td>卫生间</td>\n",
              "      <td>0.648474</td>\n",
              "      <td>软件</td>\n",
              "      <td>0.905160</td>\n",
              "      <td>房价</td>\n",
              "      <td>0.925271</td>\n",
              "    </tr>\n",
              "    <tr>\n",
              "      <th>1</th>\n",
              "      <td>饭店</td>\n",
              "      <td>0.784307</td>\n",
              "      <td>洗手间</td>\n",
              "      <td>0.611801</td>\n",
              "      <td>内部</td>\n",
              "      <td>0.843215</td>\n",
              "      <td>价钱</td>\n",
              "      <td>0.843699</td>\n",
              "    </tr>\n",
              "    <tr>\n",
              "      <th>2</th>\n",
              "      <td>店</td>\n",
              "      <td>0.752483</td>\n",
              "      <td>房间内</td>\n",
              "      <td>0.588120</td>\n",
              "      <td>外观</td>\n",
              "      <td>0.810293</td>\n",
              "      <td>价位</td>\n",
              "      <td>0.783038</td>\n",
              "    </tr>\n",
              "    <tr>\n",
              "      <th>3</th>\n",
              "      <td>城市</td>\n",
              "      <td>0.577810</td>\n",
              "      <td>套房</td>\n",
              "      <td>0.584392</td>\n",
              "      <td>来讲</td>\n",
              "      <td>0.805034</td>\n",
              "      <td>性价比</td>\n",
              "      <td>0.716965</td>\n",
              "    </tr>\n",
              "    <tr>\n",
              "      <th>4</th>\n",
              "      <td>过程</td>\n",
              "      <td>0.573309</td>\n",
              "      <td>客房</td>\n",
              "      <td>0.580884</td>\n",
              "      <td>条件</td>\n",
              "      <td>0.798558</td>\n",
              "      <td>价</td>\n",
              "      <td>0.701556</td>\n",
              "    </tr>\n",
              "    <tr>\n",
              "      <th>5</th>\n",
              "      <td>价位</td>\n",
              "      <td>0.508317</td>\n",
              "      <td>大堂</td>\n",
              "      <td>0.573359</td>\n",
              "      <td>整体</td>\n",
              "      <td>0.798480</td>\n",
              "      <td>协议价</td>\n",
              "      <td>0.607239</td>\n",
              "    </tr>\n",
              "    <tr>\n",
              "      <th>6</th>\n",
              "      <td>号称</td>\n",
              "      <td>0.499641</td>\n",
              "      <td>房</td>\n",
              "      <td>0.570314</td>\n",
              "      <td>酒店设施</td>\n",
              "      <td>0.788128</td>\n",
              "      <td>价格比</td>\n",
              "      <td>0.602202</td>\n",
              "    </tr>\n",
              "    <tr>\n",
              "      <th>7</th>\n",
              "      <td>住宿</td>\n",
              "      <td>0.498643</td>\n",
              "      <td>大厅</td>\n",
              "      <td>0.569338</td>\n",
              "      <td>配套</td>\n",
              "      <td>0.786720</td>\n",
              "      <td>评分</td>\n",
              "      <td>0.599529</td>\n",
              "    </tr>\n",
              "    <tr>\n",
              "      <th>8</th>\n",
              "      <td>大酒店</td>\n",
              "      <td>0.496951</td>\n",
              "      <td>空间</td>\n",
              "      <td>0.565988</td>\n",
              "      <td>设备</td>\n",
              "      <td>0.785495</td>\n",
              "      <td>便宜</td>\n",
              "      <td>0.596686</td>\n",
              "    </tr>\n",
              "    <tr>\n",
              "      <th>9</th>\n",
              "      <td>情况</td>\n",
              "      <td>0.496939</td>\n",
              "      <td>房子</td>\n",
              "      <td>0.565633</td>\n",
              "      <td>水准</td>\n",
              "      <td>0.779255</td>\n",
              "      <td>协议</td>\n",
              "      <td>0.595006</td>\n",
              "    </tr>\n",
              "  </tbody>\n",
              "</table>\n",
              "</div>"
            ],
            "text/plain": [
              "    酒店       cos   房间       cos    硬件       cos   价格       cos\n",
              "0   宾馆  0.788654  卫生间  0.648474    软件  0.905160   房价  0.925271\n",
              "1   饭店  0.784307  洗手间  0.611801    内部  0.843215   价钱  0.843699\n",
              "2    店  0.752483  房间内  0.588120    外观  0.810293   价位  0.783038\n",
              "3   城市  0.577810   套房  0.584392    来讲  0.805034  性价比  0.716965\n",
              "4   过程  0.573309   客房  0.580884    条件  0.798558    价  0.701556\n",
              "5   价位  0.508317   大堂  0.573359    整体  0.798480  协议价  0.607239\n",
              "6   号称  0.499641    房  0.570314  酒店设施  0.788128  价格比  0.602202\n",
              "7   住宿  0.498643   大厅  0.569338    配套  0.786720   评分  0.599529\n",
              "8  大酒店  0.496951   空间  0.565988    设备  0.785495   便宜  0.596686\n",
              "9   情况  0.496939   房子  0.565633    水准  0.779255   协议  0.595006"
            ]
          },
          "metadata": {
            "tags": []
          },
          "execution_count": 165
        }
      ]
    },
    {
      "cell_type": "markdown",
      "metadata": {
        "id": "na-E5VyVZIoZ",
        "colab_type": "text"
      },
      "source": [
        "#結論\n",
        "1.Word2Vec 效能仰賴於 Jieba 斷詞結果，故調整 Jieba 中的各式停用詞、常用詞等字典相當重要\n",
        "\n",
        "2.文本數越多，建模效果越好\n",
        "\n",
        "3.長文會影響 Word2Vec 建模效果，但影響幅度不是太大\n",
        "( 因為SKIP-GRAM 或 CBOW 還是有 Window 限制)\n",
        "\n",
        "[PCA視覺化](\n",
        "https://medium.com/pyladies-taiwan/%E8%87%AA%E7%84%B6%E8%AA%9E%E8%A8%80%E8%99%95%E7%90%86%E5%85%A5%E9%96%80-word2vec%E5%B0%8F%E5%AF%A6%E4%BD%9C-f8832d9677c8)\n"
      ]
    }
  ]
}