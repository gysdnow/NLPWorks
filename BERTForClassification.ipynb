{
  "nbformat": 4,
  "nbformat_minor": 0,
  "metadata": {
    "colab": {
      "name": "BERTForClassification.ipynb",
      "provenance": [],
      "collapsed_sections": [],
      "mount_file_id": "1BFtNmEfO-AsWm-pbhvu9XOC0Rp-rMaNB",
      "authorship_tag": "ABX9TyPgFw9QPjCfS5G21vjAcLHI",
      "include_colab_link": true
    },
    "kernelspec": {
      "name": "python3",
      "display_name": "Python 3"
    },
    "accelerator": "GPU"
  },
  "cells": [
    {
      "cell_type": "markdown",
      "metadata": {
        "id": "view-in-github",
        "colab_type": "text"
      },
      "source": [
        "<a href=\"https://colab.research.google.com/github/gysdnow/NLPWorks/blob/master/BERTForClassification.ipynb\" target=\"_parent\"><img src=\"https://colab.research.google.com/assets/colab-badge.svg\" alt=\"Open In Colab\"/></a>"
      ]
    },
    {
      "cell_type": "markdown",
      "metadata": {
        "id": "46qB-QT0ca9z",
        "colab_type": "text"
      },
      "source": [
        "# BERT文本分類\n",
        "輸入文本長度，最長支援至512，故須針對大於此長度的文本進行切割，\n",
        "但在字串長度設定為512時，會占用相當多記憶體資源\n",
        "故此處按照[此文](https://medium.com/@armandj.olivares/using-bert-for-classifying-documents-with-long-texts-5c3e7b04573d)\n",
        "作法，將長文切割成 200 字且 OVERLAP 50字的子集合，再根據原文及預測結果投票取情緒值。\n",
        "\n",
        "---\n"
      ]
    },
    {
      "cell_type": "markdown",
      "metadata": {
        "id": "zLmijWGM4JfL",
        "colab_type": "text"
      },
      "source": [
        "\n",
        "##資料集說明\n",
        "攜程網-酒店評論資料\n",
        "ChnSentiCorp_htl_all \n",
        "\n",
        "5322 Postive, \n",
        "\n",
        "2444 Negtive, \n",
        "\n",
        "[資料來源](https://github.com/SophonPlus/ChineseNlpCorpus/blob/master/datasets/ChnSentiCorp_htl_all/intro.ipynb)\n"
      ]
    },
    {
      "cell_type": "code",
      "metadata": {
        "id": "elSNeLcGcN29",
        "colab_type": "code",
        "colab": {}
      },
      "source": [
        "import pandas as pd"
      ],
      "execution_count": 0,
      "outputs": []
    },
    {
      "cell_type": "code",
      "metadata": {
        "id": "hSqdWpA0b6Se",
        "colab_type": "code",
        "outputId": "8ef35eea-d22a-4c3f-938e-de41e2bf59bc",
        "colab": {
          "base_uri": "https://localhost:8080/",
          "height": 68
        }
      },
      "source": [
        "#Colab\n",
        "path = 'drive/My Drive/Colab Notebooks/'\n",
        "#Local\n",
        "#path = './'\n",
        "raw_df = pd.read_csv(path + 'ChnSentiCorp_htl_all.csv')\n",
        "raw_df.label.value_counts()"
      ],
      "execution_count": 0,
      "outputs": [
        {
          "output_type": "execute_result",
          "data": {
            "text/plain": [
              "1    5322\n",
              "0    2444\n",
              "Name: label, dtype: int64"
            ]
          },
          "metadata": {
            "tags": []
          },
          "execution_count": 18
        }
      ]
    },
    {
      "cell_type": "markdown",
      "metadata": {
        "id": "wN62Ie0xmhqh",
        "colab_type": "text"
      },
      "source": [
        "#觀察文章字數分布\n",
        "\n",
        "平均:367字\n",
        "\n",
        "中位數:300字"
      ]
    },
    {
      "cell_type": "code",
      "metadata": {
        "id": "NlL_xvXmmVW_",
        "colab_type": "code",
        "outputId": "46bcb937-219c-4158-87d1-50ad11381d81",
        "colab": {
          "base_uri": "https://localhost:8080/",
          "height": 170
        }
      },
      "source": [
        "raw_df[raw_df.review.str.len()>200].review.str.len().describe()"
      ],
      "execution_count": 0,
      "outputs": [
        {
          "output_type": "execute_result",
          "data": {
            "text/plain": [
              "count    1307.000000\n",
              "mean      367.745218\n",
              "std       206.539704\n",
              "min       201.000000\n",
              "25%       238.500000\n",
              "50%       300.000000\n",
              "75%       425.000000\n",
              "max      2924.000000\n",
              "Name: review, dtype: float64"
            ]
          },
          "metadata": {
            "tags": []
          },
          "execution_count": 19
        }
      ]
    },
    {
      "cell_type": "markdown",
      "metadata": {
        "id": "Wba8ygP-ldn_",
        "colab_type": "text"
      },
      "source": [
        "#觀察長文(大於兩百字)占比\n",
        "\n",
        "X軸:篇數\n",
        "\n",
        "y軸:文本字數"
      ]
    },
    {
      "cell_type": "code",
      "metadata": {
        "id": "bTfYVuQtcItE",
        "colab_type": "code",
        "outputId": "be5ca78c-def0-404f-b259-dae690c786f7",
        "colab": {
          "base_uri": "https://localhost:8080/",
          "height": 282
        }
      },
      "source": [
        "raw_df[raw_df.review.str.len()>200].review.str.len().map(lambda x: (int(x/10)) * 10).value_counts().sort_index().plot()"
      ],
      "execution_count": 0,
      "outputs": [
        {
          "output_type": "execute_result",
          "data": {
            "text/plain": [
              "<matplotlib.axes._subplots.AxesSubplot at 0x7f22a7fb14a8>"
            ]
          },
          "metadata": {
            "tags": []
          },
          "execution_count": 20
        },
        {
          "output_type": "display_data",
          "data": {
            "image/png": "[encoded data removed]",
            "text/plain": [
              "<Figure size 432x288 with 1 Axes>"
            ]
          },
          "metadata": {
            "tags": []
          }
        }
      ]
    },
    {
      "cell_type": "markdown",
      "metadata": {
        "id": "DkGuI4qlpT2L",
        "colab_type": "text"
      },
      "source": [
        "#文本分割程式碼\n",
        "假設有一篇文本總長 500 個字，<br />\n",
        "取 1 ~ 200 作為   Sub1<br />\n",
        "取 150 ~ 350 作為 Sub2<br />\n",
        "取 300 ~ 500 作為 Sub3<br />\n"
      ]
    },
    {
      "cell_type": "code",
      "metadata": {
        "id": "An-o72MMpTvP",
        "colab_type": "code",
        "colab": {}
      },
      "source": [
        "#切割成200 overlap 50 的子集合\n",
        "def get_split(text):\n",
        "  text = str(text)\n",
        "  text_total_len = 200 #default:200\n",
        "  text_overlap = 50 #default:50\n",
        "  text_len = text_total_len - text_overlap\n",
        "  \n",
        "  l_total = []\n",
        "  l_parcial = []\n",
        "  #如果 Input 總字數大於149\n",
        "  if len(list(text))//text_len >0:\n",
        "    # n = Input可以被切成幾個長度為 150 的小文本\n",
        "    n = len(list(text))//text_len\n",
        "  else: \n",
        "    n = 1\n",
        "\n",
        "  for w in range(n):\n",
        "    #第一個小文本\n",
        "    if w == 0:\n",
        "      #將文本轉成每個字的LIST\n",
        "      #從 index = 0 取至 200\n",
        "      l_parcial = list(text)[:text_total_len]\n",
        "      #合起來 放進TOTAL\n",
        "      l_total.append(\"\".join(l_parcial))\n",
        "    else:\n",
        "      #取 (第 w 個文本 * 150) + 200\n",
        "      # w = 1 : 150 ~ 350\n",
        "      # w = 2 : 300 ~ 500 ...\n",
        "      l_parcial = list(text)[ w * text_len : w * text_len + text_total_len]\n",
        "      l_total.append(\"\".join(l_parcial))\n",
        "  return l_total"
      ],
      "execution_count": 0,
      "outputs": []
    },
    {
      "cell_type": "markdown",
      "metadata": {
        "id": "oEkv-30PpT5r",
        "colab_type": "text"
      },
      "source": [
        "# 切割文本，形成新的欄位  > df['review_split']\n",
        "> 驗證切割狀況\n",
        "\n",
        "目標文本: ABCDEFGHIJK\n",
        "\n",
        "LENGTH = 5, OVERLAP = 2,\n",
        "\n",
        "子文本1 =ABC**DE**<br />\n",
        "子文本2 ===>DEF**GH**<br />\n",
        "子文本2 ======>GHIJK<br />\n",
        "\n"
      ]
    },
    {
      "cell_type": "code",
      "metadata": {
        "id": "QNx5WWbGpTqB",
        "colab_type": "code",
        "outputId": "f91f712d-7140-4661-b721-9bdeffd42149",
        "colab": {
          "base_uri": "https://localhost:8080/",
          "height": 241
        }
      },
      "source": [
        "raw_df['review_split'] = raw_df.review.apply(get_split).reset_index(drop=True)\n",
        "\n",
        "#將小文本的末50字換行做驗證\n",
        "test = [[x[:150],x[150:]]for x in raw_df.review_split[92]]\n",
        "\n",
        "for t in test:\n",
        "  print('Text = [{}] \\nOverlap = [{}]\\n'.format(t[0],t[1]))"
      ],
      "execution_count": 0,
      "outputs": [
        {
          "output_type": "stream",
          "text": [
            "Text = [我们从6月21日到6月25日在亚太(二期)一共住了四个晚上,原本想在这个酒店住两天,再到亚龙湾住两天,但我老公觉得这样太累了,所以就没有定其他酒店,现在想想觉得有些后悔.首先,亚太国际会议中心的服务的确不错,差不多每天见到的服务员都能主动与客人打招呼,而且非常亲切(但除了三期中餐厅的收银员,态度较冷] \n",
            "Overlap = [淡);宾馆大堂还是比较漂亮的,游泳池也很美,由于我事先再三要求住在五楼,而且一定要100%海景房,所]\n",
            "\n",
            "Text = [淡);宾馆大堂还是比较漂亮的,游泳池也很美,由于我事先再三要求住在五楼,而且一定要100%海景房,所以携程这点也尽量做到了(在此表示感谢),房间比较陈旧,连我不讲究的老公都觉得不太符合五星级的标准,但是厕所是兰色的主题,很干净,很大,我和我儿子都很喜欢.早上起床,我迫不及待地打开厚厚的窗帘,给我的第] \n",
            "Overlap = [一感觉就是:美极了!棒极了!这家酒店的早饭一般般,由于我们连住了四天,每天吃的都差不多,品种看上去蛮]\n",
            "\n",
            "Text = [一感觉就是:美极了!棒极了!这家酒店的早饭一般般,由于我们连住了四天,每天吃的都差不多,品种看上去蛮多的,但味道实在不敢恭维,而且最要命的是除了房间,前台(有一个立式空调)以外,酒店的任何地方都没有空调(连吊扇也没有),我们早上每天都吃得大汗淋淋,热得实在是吃不消.但餐厅环境还是不错的.我们去了一次] \n",
            "Overlap = [三期吃饭,感觉环境比二期要好,而且餐厅有中央空调(但那里似乎服务员都不怕热,即使有空调也不开).总的]\n",
            "\n",
            "Text = [三期吃饭,感觉环境比二期要好,而且餐厅有中央空调(但那里似乎服务员都不怕热,即使有空调也不开).总的来讲:服务不错,环境不错,离大海沙滩很近,三亚是个很美的地方,我和儿子走的时候都有些依依不舍,但是由于三亚本身是个很热的地方,这个酒店没有空调,太热了,所以下次去的话除非冬季去会住在那里,其余季节不会] \n",
            "Overlap = [再住这个酒店了(真是觉得很可惜)]\n",
            "\n"
          ],
          "name": "stdout"
        }
      ]
    },
    {
      "cell_type": "markdown",
      "metadata": {
        "id": "CaWBsO-5_mQm",
        "colab_type": "text"
      },
      "source": [
        "#長文切割後，重新整理資料集\n",
        "多出來的子文本，沿用原文的LABEL\n",
        "\n",
        "紀錄子文本是由哪篇原文所切割 (index)\n",
        "\n",
        "並檢查新資料集字數分布\n"
      ]
    },
    {
      "cell_type": "code",
      "metadata": {
        "id": "Z7WsQyuTpTnf",
        "colab_type": "code",
        "outputId": "f55b19a8-ec11-45c2-8c96-58edf72e6f77",
        "colab": {
          "base_uri": "https://localhost:8080/",
          "height": 221
        }
      },
      "source": [
        "train_l = []\n",
        "label_l = []\n",
        "index_l = []\n",
        "for idx,row in raw_df.iterrows():\n",
        "  for rs in row['review_split']:\n",
        "    train_l.append(rs)\n",
        "    label_l.append(row['label'])\n",
        "    index_l.append(idx)\n",
        "\n",
        "print(len(train_l),len(label_l),len(index_l))\n",
        "new_df_with_idx = pd.DataFrame({'text':train_l, 'label':label_l, 'idx':index_l})\n",
        "new_df = pd.DataFrame({'text':train_l, 'label':label_l ,'idx':index_l})\n",
        "#new_df.astype({'label': 'float'}).dtypes\n",
        "new_df.head()"
      ],
      "execution_count": 0,
      "outputs": [
        {
          "output_type": "stream",
          "text": [
            "8996 8996 8996\n"
          ],
          "name": "stdout"
        },
        {
          "output_type": "execute_result",
          "data": {
            "text/html": [
              "<div>\n",
              "<style scoped>\n",
              "    .dataframe tbody tr th:only-of-type {\n",
              "        vertical-align: middle;\n",
              "    }\n",
              "\n",
              "    .dataframe tbody tr th {\n",
              "        vertical-align: top;\n",
              "    }\n",
              "\n",
              "    .dataframe thead th {\n",
              "        text-align: right;\n",
              "    }\n",
              "</style>\n",
              "<table border=\"1\" class=\"dataframe\">\n",
              "  <thead>\n",
              "    <tr style=\"text-align: right;\">\n",
              "      <th></th>\n",
              "      <th>text</th>\n",
              "      <th>label</th>\n",
              "      <th>idx</th>\n",
              "    </tr>\n",
              "  </thead>\n",
              "  <tbody>\n",
              "    <tr>\n",
              "      <th>0</th>\n",
              "      <td>距离川沙公路较近,但是公交指示不对,如果是\"蔡陆线\"的话,会非常麻烦.建议用别的路线.房间较...</td>\n",
              "      <td>1</td>\n",
              "      <td>0</td>\n",
              "    </tr>\n",
              "    <tr>\n",
              "      <th>1</th>\n",
              "      <td>商务大床房，房间很大，床有2M宽，整体感觉经济实惠不错!</td>\n",
              "      <td>1</td>\n",
              "      <td>1</td>\n",
              "    </tr>\n",
              "    <tr>\n",
              "      <th>2</th>\n",
              "      <td>早餐太差，无论去多少人，那边也不加食品的。酒店应该重视一下这个问题了。房间本身很好。</td>\n",
              "      <td>1</td>\n",
              "      <td>2</td>\n",
              "    </tr>\n",
              "    <tr>\n",
              "      <th>3</th>\n",
              "      <td>宾馆在小街道上，不大好找，但还好北京热心同胞很多~宾馆设施跟介绍的差不多，房间很小，确实挺小...</td>\n",
              "      <td>1</td>\n",
              "      <td>3</td>\n",
              "    </tr>\n",
              "    <tr>\n",
              "      <th>4</th>\n",
              "      <td>CBD中心,周围没什么店铺,说5星有点勉强.不知道为什么卫生间没有电吹风</td>\n",
              "      <td>1</td>\n",
              "      <td>4</td>\n",
              "    </tr>\n",
              "  </tbody>\n",
              "</table>\n",
              "</div>"
            ],
            "text/plain": [
              "                                                text  label  idx\n",
              "0  距离川沙公路较近,但是公交指示不对,如果是\"蔡陆线\"的话,会非常麻烦.建议用别的路线.房间较...      1    0\n",
              "1                       商务大床房，房间很大，床有2M宽，整体感觉经济实惠不错!      1    1\n",
              "2         早餐太差，无论去多少人，那边也不加食品的。酒店应该重视一下这个问题了。房间本身很好。      1    2\n",
              "3  宾馆在小街道上，不大好找，但还好北京热心同胞很多~宾馆设施跟介绍的差不多，房间很小，确实挺小...      1    3\n",
              "4               CBD中心,周围没什么店铺,说5星有点勉强.不知道为什么卫生间没有电吹风      1    4"
            ]
          },
          "metadata": {
            "tags": []
          },
          "execution_count": 23
        }
      ]
    },
    {
      "cell_type": "code",
      "metadata": {
        "id": "hzehOi7wpTkt",
        "colab_type": "code",
        "outputId": "4943474e-33ed-4b1e-ee9b-08e3b27f79f9",
        "colab": {
          "base_uri": "https://localhost:8080/",
          "height": 282
        }
      },
      "source": [
        "#驗證目前文本字數分布\n",
        "new_df.text.str.len().map(lambda x: (int(x/10)) * 10).value_counts().sort_index().plot()"
      ],
      "execution_count": 0,
      "outputs": [
        {
          "output_type": "execute_result",
          "data": {
            "text/plain": [
              "<matplotlib.axes._subplots.AxesSubplot at 0x7f22a0077278>"
            ]
          },
          "metadata": {
            "tags": []
          },
          "execution_count": 24
        },
        {
          "output_type": "display_data",
          "data": {
            "image/png": "[encoded data removed]",
            "text/plain": [
              "<Figure size 432x288 with 1 Axes>"
            ]
          },
          "metadata": {
            "tags": []
          }
        }
      ]
    },
    {
      "cell_type": "markdown",
      "metadata": {
        "id": "ulAYNWC2AsmW",
        "colab_type": "text"
      },
      "source": [
        "#儲存處理結果\n",
        "隨機分為訓練集、驗證集"
      ]
    },
    {
      "cell_type": "code",
      "metadata": {
        "id": "AwUVpUEUpThr",
        "colab_type": "code",
        "colab": {}
      },
      "source": [
        "from sklearn.model_selection import train_test_split\n",
        "train_data, valid_data = train_test_split(new_df, random_state=777, train_size=0.8)\n",
        "#存檔\n",
        "train_data.to_csv('./train_data.tsv', index=False, sep='\\t', encoding='utf-8')\n",
        "valid_data.to_csv('./valid_data.tsv', index=False, sep='\\t', encoding='utf-8')"
      ],
      "execution_count": 0,
      "outputs": []
    },
    {
      "cell_type": "markdown",
      "metadata": {
        "id": "8p-Ik-T0BWx4",
        "colab_type": "text"
      },
      "source": [
        "# 將資料格式為 BERT 輸入格式\n",
        "- 使用Bert Base Chinese 模型\n",
        "- 首位加入 [CLS]、文本轉換為TOKEN、TOKEN轉為TENSOR\n",
        "- RETURN 三種 TENSOR :\n",
        "  \n",
        "  1.TOKEN(內容)\n",
        "\n",
        "  2.SEGMENT(前後句)\n",
        "\n",
        "  3.LABEL(標籤)\n"
      ]
    },
    {
      "cell_type": "code",
      "metadata": {
        "id": "rRywYjvoA97l",
        "colab_type": "code",
        "colab": {}
      },
      "source": [
        "!pip install transformers -q\n",
        "!pip install pysnooper -q\n",
        "import pysnooper\n",
        "import torch\n",
        "from transformers import BertTokenizer,BertForSequenceClassification\n",
        "from IPython.display import clear_output\n",
        "\n",
        "\n",
        "PRETRAINED_MODEL_NAME = \"bert-base-chinese\"  # 指定繁簡中文 BERT-BASE 預訓練模型\n",
        "tokenizer = BertTokenizer.from_pretrained(PRETRAINED_MODEL_NAME)\n",
        "\n",
        "from torch.utils.data import Dataset\n",
        "class CommentDataset(Dataset):\n",
        "    def __init__(self, mode, tokenizer):\n",
        "        assert mode in [\"train\", \"valid\"] #限制只有這兩種模式\n",
        "        self.mode = mode \n",
        "        self.df = pd.read_csv(mode + \"_data.tsv\", sep=\"\\t\").fillna(\"\") #讀對應檔案\n",
        "        self.len = len(self.df)  \n",
        "        self.tokenizer = tokenizer  #欲使用的token轉換器\n",
        "    \n",
        "    def __getitem__(self, idx):\n",
        "        #如果是驗證集，不讀取LABEL\n",
        "        if self.mode == \"valid\":\n",
        "            text = self.df.iloc[idx].text\n",
        "            label_tensor = None\n",
        "        else:\n",
        "            text, label = self.df.iloc[idx ,:2].values\n",
        "            label_tensor = torch.tensor(label,dtype=torch.long)\n",
        "            \n",
        "        #[CLS] Sentence Token\n",
        "        word_pieces = [\"[CLS]\"]\n",
        "        tokens = self.tokenizer.tokenize(text)\n",
        "        word_pieces += tokens\n",
        "        \n",
        "        len_a = len(word_pieces)\n",
        "        ids = self.tokenizer.convert_tokens_to_ids(word_pieces)\n",
        "        tokens_tensor = torch.tensor(ids)\n",
        "        segments_tensor = torch.tensor([0] * len_a ,dtype=torch.long)\n",
        "\n",
        "        return (tokens_tensor, segments_tensor, label_tensor)\n",
        "    \n",
        "    def __len__(self):\n",
        "        return self.len\n",
        "    \n",
        "trainset = CommentDataset(\"train\", tokenizer=tokenizer)\n",
        "# 初始化一個專門讀取訓練樣本的 Dataset，使用中文 BERT 斷詞\n"
      ],
      "execution_count": 0,
      "outputs": []
    },
    {
      "cell_type": "markdown",
      "metadata": {
        "id": "n4PFLN_uD_Am",
        "colab_type": "text"
      },
      "source": [
        "#批次提供資料\n",
        "- RETURN 四種 TENSOR :\n",
        "\n",
        "  1.TOKEN (內容、已加入[PAD]統一長度)\n",
        "\n",
        "  2.SEGMENT (前後句、已加入[PAD]統一長度)\n",
        "\n",
        "  3.MASK (BERT模型可MASK的範圍)\n",
        "\n",
        "  4.LABEL (標籤)"
      ]
    },
    {
      "cell_type": "code",
      "metadata": {
        "id": "xvx5RNx5DkZe",
        "colab_type": "code",
        "colab": {}
      },
      "source": [
        "from torch.utils.data import DataLoader\n",
        "from torch.nn.utils.rnn import pad_sequence\n",
        "\n",
        "def create_mini_batch(samples):\n",
        "    #取出TOKEN(內容)的TENSOR\n",
        "    tokens_tensors = [s[0] for s in samples]\n",
        "    #取出SEGMENT(前後句)的TENSOR（判斷上下句關係時需使用,目前全放0即可）\n",
        "    segments_tensors = [s[1] for s in samples]\n",
        "    \n",
        "    #檢查輸入的資料集有沒有 label 資料\n",
        "    if samples[0][2] is not None:\n",
        "        label_ids = torch.stack([s[2] for s in samples])\n",
        "    else:\n",
        "        label_ids = None\n",
        "    \n",
        "    #將長短不一的TENSORS tensor 統一用 [PAD] 補齊長度\n",
        "    tokens_tensors = pad_sequence(tokens_tensors, \n",
        "                                  batch_first=True)\n",
        "    segments_tensors = pad_sequence(segments_tensors, \n",
        "                                    batch_first=True)\n",
        "    masks_tensors = torch.zeros(tokens_tensors.shape, \n",
        "                                dtype=torch.long)\n",
        "    #將TOKENS.SHAPE[0]的長度填0，其他填1\n",
        "    #藉以約束 BERT 可 MASK 的 TENSOR在句子內\n",
        "    #不至於跑到 [PAD] 處 (MASK PAD無助於 BERT 訓練)\n",
        "    masks_tensors = masks_tensors.masked_fill(\n",
        "        tokens_tensors != 0, 1)\n",
        "    \n",
        "    return tokens_tensors, segments_tensors, masks_tensors, label_ids\n"
      ],
      "execution_count": 0,
      "outputs": []
    },
    {
      "cell_type": "markdown",
      "metadata": {
        "id": "DsteJ9vLGPMU",
        "colab_type": "text"
      },
      "source": [
        "#設定BERT相關參數\n",
        "建立 DATA LOADER\n",
        "\n",
        "建立 BERT MODEL\n",
        "\n",
        "\n"
      ]
    },
    {
      "cell_type": "code",
      "metadata": {
        "id": "QrZkFBKsFusR",
        "colab_type": "code",
        "outputId": "889b7c88-a2ec-4e98-afa0-4e490fc189c0",
        "colab": {
          "base_uri": "https://localhost:8080/",
          "height": 153
        }
      },
      "source": [
        "#Colab GPU RAM 的關係,取batch size = 32\n",
        "BATCH_SIZE=32\n",
        "trainloader = DataLoader(trainset, batch_size=BATCH_SIZE,\n",
        "                         collate_fn = create_mini_batch)\n",
        "\n",
        "#LABELS 有幾種類別\n",
        "NUM_LABELS = 2\n",
        "\n",
        "#建立 BertForSequenceClassification model \n",
        "model = BertForSequenceClassification.from_pretrained(\n",
        "    PRETRAINED_MODEL_NAME, num_labels=NUM_LABELS)\n",
        "\n",
        "clear_output()\n",
        "\n",
        "print(\"\"\"\n",
        "name            module\n",
        "----------------------\"\"\")\n",
        "\n",
        "for name, module in model.named_children():\n",
        "    if name == \"bert\":\n",
        "        for n, _ in module.named_children():\n",
        "            print(f\"{name}:{n}\")\n",
        "    else:\n",
        "        print(\"{:15} {}\".format(name, module))"
      ],
      "execution_count": 0,
      "outputs": [
        {
          "output_type": "stream",
          "text": [
            "\n",
            "name            module\n",
            "----------------------\n",
            "bert:embeddings\n",
            "bert:encoder\n",
            "bert:pooler\n",
            "dropout         Dropout(p=0.1, inplace=False)\n",
            "classifier      Linear(in_features=768, out_features=2, bias=True)\n"
          ],
          "name": "stdout"
        }
      ]
    },
    {
      "cell_type": "markdown",
      "metadata": {
        "id": "U6uAmdo3Ht5d",
        "colab_type": "text"
      },
      "source": [
        "#預測資料 Function\n",
        "- (model.eval) or (torch.no_grad)? [Link](https://discuss.pytorch.org/t/model-eval-vs-with-torch-no-grad/19615)\n",
        "\n",
        "\n",
        "- torch.max(a,axis) 取得該 axis 中最大值及其 index<br />\n",
        "axis=0 > col<br />\n",
        "axis=1 > row<br />\n",
        "\n",
        "## 範例:\n",
        "\n",
        "```python\n",
        ">>> a = [[1,2,3],[2,3,4],[9,0,1]]\n",
        ">>> torch.max(a,1)\n",
        "3\n",
        "4\n",
        "9\n",
        "[torch.FloatTensor of size 3]\n",
        ",\n",
        "2\n",
        "2\n",
        "0\n",
        "[torch.LongTensor of size 3]\n",
        "```\n"
      ]
    },
    {
      "cell_type": "code",
      "metadata": {
        "id": "OMkcVNfUHMcb",
        "colab_type": "code",
        "colab": {}
      },
      "source": [
        "def get_predictions(model, dataloader, compute_acc=False):\n",
        "    predictions = None\n",
        "    correct = 0\n",
        "    total = 0\n",
        "      \n",
        "    with torch.no_grad():\n",
        "        for data in dataloader:\n",
        "            if next(model.parameters()).is_cuda:\n",
        "                data = [t.to(\"cuda:0\") for t in data if t is not None]\n",
        "            #取出前三個Return值\n",
        "            tokens_tensors, segments_tensors, masks_tensors = data[:3]\n",
        "            #填入Model\n",
        "            outputs = model(input_ids=tokens_tensors, \n",
        "                            token_type_ids=segments_tensors, \n",
        "                            attention_mask=masks_tensors)\n",
        "            logits = outputs[0]\n",
        "            #取出該row最大值及其索引()\n",
        "            #最大值為機率、索引為0,1\n",
        "            #即BERT所分類之標籤\n",
        "            _, pred = torch.max(logits.data, 1)\n",
        "            #如果要算準確率\n",
        "            if compute_acc:\n",
        "                #取出dataloader第四個Return list\n",
        "                labels = data[3]\n",
        "                #總數等於 default 0 + labels個數\n",
        "                total += labels.size(0)\n",
        "                #預測值等於label的數量加總\n",
        "                correct += (pred == labels).sum().item()\n",
        "                \n",
        "            if predictions is None:\n",
        "                predictions = pred\n",
        "            else:\n",
        "                predictions = torch.cat((predictions, pred))\n",
        "    \n",
        "    if compute_acc:\n",
        "        acc = correct / total\n",
        "        return predictions, acc\n",
        "    return predictions"
      ],
      "execution_count": 0,
      "outputs": []
    },
    {
      "cell_type": "markdown",
      "metadata": {
        "id": "5oIHIL3jQfIZ",
        "colab_type": "text"
      },
      "source": [
        "#開始 FineTune Bert模型"
      ]
    },
    {
      "cell_type": "code",
      "metadata": {
        "id": "iS-DZbl0QgD6",
        "colab_type": "code",
        "outputId": "0bf1374c-76b9-498c-cb37-aab5f8707a66",
        "colab": {
          "base_uri": "https://localhost:8080/",
          "height": 221
        }
      },
      "source": [
        "%%time\n",
        "\n",
        "#有GPU用GPU，沒有的話就用CPU\n",
        "device = torch.device(\"cuda:0\" if torch.cuda.is_available() else \"cpu\")\n",
        "print(\"device:\", device)\n",
        "#將目前 model 上的數值都 Copy 一份到 device 上\n",
        "#後續將在該device上操作\n",
        "model = model.to(device)\n",
        "model.train()\n",
        "#優化器選用Adam\n",
        "optimizer = torch.optim.Adam(model.parameters(), lr=1e-5)\n",
        "#跑9個epoch\n",
        "EPOCHS = 9  \n",
        "\n",
        "for epoch in range(EPOCHS):\n",
        "    running_loss = 0.0\n",
        "    # 1 個epoch 跑 n 次Batch\n",
        "    # 每次 batch 都是一個step\n",
        "    for data in trainloader:\n",
        "        #找trainloader拿資料\n",
        "        #分別放置對應的 list變數\n",
        "        tokens_tensors, segments_tensors, \\\n",
        "        masks_tensors, labels = [t.to(device) for t in data]\n",
        "        #歸零梯度參數\n",
        "        optimizer.zero_grad()\n",
        "        #將輸入值塞進 model\n",
        "        outputs = model(input_ids=tokens_tensors, \n",
        "                        token_type_ids=segments_tensors, \n",
        "                        attention_mask=masks_tensors, \n",
        "                        labels=labels)\n",
        "        #此處output值第一個變數是loss\n",
        "        #有提供label作為input時，第一個值會是loss\n",
        "        #沒有提供時，第一個值會是logits\n",
        "        loss = outputs[0]\n",
        "        #反向傳播模型參數\n",
        "        loss.backward()\n",
        "        #優化器更新參數\n",
        "        optimizer.step()\n",
        "\n",
        "        running_loss += loss.item()\n",
        "        \n",
        "    _, acc = get_predictions(model, trainloader, compute_acc=True)\n",
        "\n",
        "    print('[epoch %d] loss: %.3f, acc: %.3f' %\n",
        "          (epoch + 1, running_loss, acc))\n",
        "    "
      ],
      "execution_count": 0,
      "outputs": [
        {
          "output_type": "stream",
          "text": [
            "device: cuda:0\n",
            "[epoch 1] loss: 72.974, acc: 0.908\n",
            "[epoch 2] loss: 51.638, acc: 0.942\n",
            "[epoch 3] loss: 39.893, acc: 0.959\n",
            "[epoch 4] loss: 28.635, acc: 0.969\n",
            "[epoch 5] loss: 22.107, acc: 0.980\n",
            "[epoch 6] loss: 15.166, acc: 0.978\n",
            "[epoch 7] loss: 11.658, acc: 0.983\n",
            "[epoch 8] loss: 8.946, acc: 0.966\n",
            "[epoch 9] loss: 10.866, acc: 0.994\n",
            "CPU times: user 19min, sys: 9min 36s, total: 28min 36s\n",
            "Wall time: 28min 37s\n"
          ],
          "name": "stdout"
        }
      ]
    },
    {
      "cell_type": "markdown",
      "metadata": {
        "id": "xJ8eQJc9M0US",
        "colab_type": "text"
      },
      "source": [
        "# 訓練完成，進行預測"
      ]
    },
    {
      "cell_type": "code",
      "metadata": {
        "id": "2_dBG64KN-jC",
        "colab_type": "code",
        "colab": {}
      },
      "source": [
        "validset = CommentDataset('valid',tokenizer=tokenizer)\n",
        "validloader = DataLoader(validset, batch_size=64, \n",
        "                        collate_fn=create_mini_batch)\n",
        "valid_predictions = get_predictions(model, validloader)"
      ],
      "execution_count": 0,
      "outputs": []
    },
    {
      "cell_type": "code",
      "metadata": {
        "id": "tCvfG6OQWEhe",
        "colab_type": "code",
        "outputId": "63ed266e-9614-41ed-ab01-6e9e7cc62357",
        "colab": {
          "base_uri": "https://localhost:8080/",
          "height": 255
        }
      },
      "source": [
        "valid_df_pred = pd.DataFrame({\"predicted\": valid_predictions.tolist()})\n",
        "valid_df = pd.concat([validset.df, valid_df_pred.loc[:, 'predicted']], axis=1)\n",
        "valid_df.head()"
      ],
      "execution_count": 0,
      "outputs": [
        {
          "output_type": "execute_result",
          "data": {
            "text/html": [
              "<div>\n",
              "<style scoped>\n",
              "    .dataframe tbody tr th:only-of-type {\n",
              "        vertical-align: middle;\n",
              "    }\n",
              "\n",
              "    .dataframe tbody tr th {\n",
              "        vertical-align: top;\n",
              "    }\n",
              "\n",
              "    .dataframe thead th {\n",
              "        text-align: right;\n",
              "    }\n",
              "</style>\n",
              "<table border=\"1\" class=\"dataframe\">\n",
              "  <thead>\n",
              "    <tr style=\"text-align: right;\">\n",
              "      <th></th>\n",
              "      <th>text</th>\n",
              "      <th>label</th>\n",
              "      <th>idx</th>\n",
              "      <th>predicted</th>\n",
              "    </tr>\n",
              "  </thead>\n",
              "  <tbody>\n",
              "    <tr>\n",
              "      <th>0</th>\n",
              "      <td>第一次住这里，之前有同事住过，所以觉得应该还可以，没想到：1、门童非常不主动，门口站着几个门...</td>\n",
              "      <td>0</td>\n",
              "      <td>5535</td>\n",
              "      <td>0</td>\n",
              "    </tr>\n",
              "    <tr>\n",
              "      <th>1</th>\n",
              "      <td>家庭式旅馆，吵架，不干净。莫干山庄很好，但是携程上没有，还有山上有10多家酒店，携程只有2－...</td>\n",
              "      <td>0</td>\n",
              "      <td>6825</td>\n",
              "      <td>0</td>\n",
              "    </tr>\n",
              "    <tr>\n",
              "      <th>2</th>\n",
              "      <td>没住过这么差的酒店。首先不能刷卡。而且服务质量极差，我刚到时安排房间是未打扫的，再安排还是没...</td>\n",
              "      <td>0</td>\n",
              "      <td>5687</td>\n",
              "      <td>0</td>\n",
              "    </tr>\n",
              "    <tr>\n",
              "      <th>3</th>\n",
              "      <td>我3.6预定好的180的标间，当我到的时候竟然说有会议房间满了，我订的房间没有了，太不讲信誉...</td>\n",
              "      <td>0</td>\n",
              "      <td>5330</td>\n",
              "      <td>0</td>\n",
              "    </tr>\n",
              "    <tr>\n",
              "      <th>4</th>\n",
              "      <td>酒店的环境,房间和服务都不错,但是门口的保安就很差.让人联想到\"打手\".再加上网上也有对保安...</td>\n",
              "      <td>1</td>\n",
              "      <td>3562</td>\n",
              "      <td>1</td>\n",
              "    </tr>\n",
              "  </tbody>\n",
              "</table>\n",
              "</div>"
            ],
            "text/plain": [
              "                                                text  label   idx  predicted\n",
              "0  第一次住这里，之前有同事住过，所以觉得应该还可以，没想到：1、门童非常不主动，门口站着几个门...      0  5535          0\n",
              "1  家庭式旅馆，吵架，不干净。莫干山庄很好，但是携程上没有，还有山上有10多家酒店，携程只有2－...      0  6825          0\n",
              "2  没住过这么差的酒店。首先不能刷卡。而且服务质量极差，我刚到时安排房间是未打扫的，再安排还是没...      0  5687          0\n",
              "3  我3.6预定好的180的标间，当我到的时候竟然说有会议房间满了，我订的房间没有了，太不讲信誉...      0  5330          0\n",
              "4  酒店的环境,房间和服务都不错,但是门口的保安就很差.让人联想到\"打手\".再加上网上也有对保安...      1  3562          1"
            ]
          },
          "metadata": {
            "tags": []
          },
          "execution_count": 65
        }
      ]
    },
    {
      "cell_type": "markdown",
      "metadata": {
        "id": "muv0Uv0Mf35l",
        "colab_type": "text"
      },
      "source": [
        "#檢查預測結果\n",
        "找出 [BERT預測值] 與 [LABEL] 相異的文本\n",
        "透過觀察相異文本可以看出 \n",
        "\n",
        "BERT 是否確實找出判斷類別的特徵依據\n",
        "\n",
        "最後再將預測結果按照 [原文idx] 進行合併"
      ]
    },
    {
      "cell_type": "code",
      "metadata": {
        "id": "c4iT6s7Vef_I",
        "colab_type": "code",
        "colab": {}
      },
      "source": [
        "diff_df = valid_df[valid_df.label != valid_df.predicted].reset_index(drop=True)"
      ],
      "execution_count": 0,
      "outputs": []
    },
    {
      "cell_type": "markdown",
      "metadata": {
        "id": "S0DxYO__g6SW",
        "colab_type": "text"
      },
      "source": [
        "BERT 預測為負、資料集標註為正\n"
      ]
    },
    {
      "cell_type": "code",
      "metadata": {
        "id": "G9B2xDL1g6D8",
        "colab_type": "code",
        "outputId": "b403b7fe-144f-43fc-a3a8-a12e890a09d4",
        "colab": {
          "base_uri": "https://localhost:8080/",
          "height": 495
        }
      },
      "source": [
        "diff_df[diff_df.label==1].sample(10)"
      ],
      "execution_count": 0,
      "outputs": [
        {
          "output_type": "execute_result",
          "data": {
            "text/html": [
              "<div>\n",
              "<style scoped>\n",
              "    .dataframe tbody tr th:only-of-type {\n",
              "        vertical-align: middle;\n",
              "    }\n",
              "\n",
              "    .dataframe tbody tr th {\n",
              "        vertical-align: top;\n",
              "    }\n",
              "\n",
              "    .dataframe thead th {\n",
              "        text-align: right;\n",
              "    }\n",
              "</style>\n",
              "<table border=\"1\" class=\"dataframe\">\n",
              "  <thead>\n",
              "    <tr style=\"text-align: right;\">\n",
              "      <th></th>\n",
              "      <th>text</th>\n",
              "      <th>label</th>\n",
              "      <th>idx</th>\n",
              "      <th>predicted</th>\n",
              "    </tr>\n",
              "  </thead>\n",
              "  <tbody>\n",
              "    <tr>\n",
              "      <th>23</th>\n",
              "      <td>房间还算可以，但硬件设施偏差，服务水平也很一般。</td>\n",
              "      <td>1</td>\n",
              "      <td>4969</td>\n",
              "      <td>0</td>\n",
              "    </tr>\n",
              "    <tr>\n",
              "      <th>129</th>\n",
              "      <td>空调，现在全部设定的温度是27-28度，晚上就会好点，真难受！这就是五星级酒店，晚上上半夜的...</td>\n",
              "      <td>1</td>\n",
              "      <td>2483</td>\n",
              "      <td>0</td>\n",
              "    </tr>\n",
              "    <tr>\n",
              "      <th>78</th>\n",
              "      <td>五一住了这里，作为三星级硬件还可以。前台经理赞一个，我们一行在隔壁吃饭，发票中了奖，但饭馆就...</td>\n",
              "      <td>1</td>\n",
              "      <td>248</td>\n",
              "      <td>0</td>\n",
              "    </tr>\n",
              "    <tr>\n",
              "      <th>81</th>\n",
              "      <td>作为酒店的老客户，恐怕以后要做另外的选择了――服务水平在下降，价格却一升再升，再这样下去，下...</td>\n",
              "      <td>1</td>\n",
              "      <td>4013</td>\n",
              "      <td>0</td>\n",
              "    </tr>\n",
              "    <tr>\n",
              "      <th>70</th>\n",
              "      <td>五星根本不符合五星标准。房间小就不说了，洗浴品只有洗发水，没有浴袍，茶水篮里仅有一包绿茶。卫...</td>\n",
              "      <td>1</td>\n",
              "      <td>694</td>\n",
              "      <td>0</td>\n",
              "    </tr>\n",
              "    <tr>\n",
              "      <th>10</th>\n",
              "      <td>晚上10点至凌晨4点之间骚扰电话太多，常常无法入睡，给总台反映过，但是没有起到作用！</td>\n",
              "      <td>1</td>\n",
              "      <td>1006</td>\n",
              "      <td>0</td>\n",
              "    </tr>\n",
              "    <tr>\n",
              "      <th>143</th>\n",
              "      <td>专业公司对新装修楼层的楼道，房间进行了光触媒净化处理。光触媒是一种无毒无害的健康型净化空气材...</td>\n",
              "      <td>1</td>\n",
              "      <td>2078</td>\n",
              "      <td>0</td>\n",
              "    </tr>\n",
              "    <tr>\n",
              "      <th>101</th>\n",
              "      <td>我很晚才住进酒店，打车过去，从大门到我住的那栋，走了好久，本来已经疲惫不堪，还走了那么远一段...</td>\n",
              "      <td>1</td>\n",
              "      <td>4922</td>\n",
              "      <td>0</td>\n",
              "    </tr>\n",
              "    <tr>\n",
              "      <th>149</th>\n",
              "      <td>从乌鲁木齐火车站打的过去11块钱,在解放北路,离乌鲁木齐的二道桥市场也不远,可以去买干果,也...</td>\n",
              "      <td>1</td>\n",
              "      <td>978</td>\n",
              "      <td>0</td>\n",
              "    </tr>\n",
              "    <tr>\n",
              "      <th>123</th>\n",
              "      <td>多都是以自制的霸王条款来约束客人,甚至超越其权限对客人进行经济处罚,这本身就是对\"服务\"和\"...</td>\n",
              "      <td>1</td>\n",
              "      <td>940</td>\n",
              "      <td>0</td>\n",
              "    </tr>\n",
              "  </tbody>\n",
              "</table>\n",
              "</div>"
            ],
            "text/plain": [
              "                                                  text  label   idx  predicted\n",
              "23                            房间还算可以，但硬件设施偏差，服务水平也很一般。      1  4969          0\n",
              "129  空调，现在全部设定的温度是27-28度，晚上就会好点，真难受！这就是五星级酒店，晚上上半夜的...      1  2483          0\n",
              "78   五一住了这里，作为三星级硬件还可以。前台经理赞一个，我们一行在隔壁吃饭，发票中了奖，但饭馆就...      1   248          0\n",
              "81   作为酒店的老客户，恐怕以后要做另外的选择了――服务水平在下降，价格却一升再升，再这样下去，下...      1  4013          0\n",
              "70   五星根本不符合五星标准。房间小就不说了，洗浴品只有洗发水，没有浴袍，茶水篮里仅有一包绿茶。卫...      1   694          0\n",
              "10          晚上10点至凌晨4点之间骚扰电话太多，常常无法入睡，给总台反映过，但是没有起到作用！      1  1006          0\n",
              "143  专业公司对新装修楼层的楼道，房间进行了光触媒净化处理。光触媒是一种无毒无害的健康型净化空气材...      1  2078          0\n",
              "101  我很晚才住进酒店，打车过去，从大门到我住的那栋，走了好久，本来已经疲惫不堪，还走了那么远一段...      1  4922          0\n",
              "149  从乌鲁木齐火车站打的过去11块钱,在解放北路,离乌鲁木齐的二道桥市场也不远,可以去买干果,也...      1   978          0\n",
              "123  多都是以自制的霸王条款来约束客人,甚至超越其权限对客人进行经济处罚,这本身就是对\"服务\"和\"...      1   940          0"
            ]
          },
          "metadata": {
            "tags": []
          },
          "execution_count": 67
        }
      ]
    },
    {
      "cell_type": "markdown",
      "metadata": {
        "colab_type": "text",
        "id": "RLGbRPfYiMwS"
      },
      "source": [
        "BERT 預測為正、資料集標註為負"
      ]
    },
    {
      "cell_type": "code",
      "metadata": {
        "id": "rRlJkVHFfY4v",
        "colab_type": "code",
        "outputId": "3f1cfb3a-3d40-4f0e-9269-77e25fca0879",
        "colab": {
          "base_uri": "https://localhost:8080/",
          "height": 512
        }
      },
      "source": [
        "fix_df[fix_df.label==0].sample(10)"
      ],
      "execution_count": 0,
      "outputs": [
        {
          "output_type": "execute_result",
          "data": {
            "text/html": [
              "<div>\n",
              "<style scoped>\n",
              "    .dataframe tbody tr th:only-of-type {\n",
              "        vertical-align: middle;\n",
              "    }\n",
              "\n",
              "    .dataframe tbody tr th {\n",
              "        vertical-align: top;\n",
              "    }\n",
              "\n",
              "    .dataframe thead th {\n",
              "        text-align: right;\n",
              "    }\n",
              "</style>\n",
              "<table border=\"1\" class=\"dataframe\">\n",
              "  <thead>\n",
              "    <tr style=\"text-align: right;\">\n",
              "      <th></th>\n",
              "      <th>text</th>\n",
              "      <th>label</th>\n",
              "      <th>idx</th>\n",
              "      <th>predicted</th>\n",
              "    </tr>\n",
              "  </thead>\n",
              "  <tbody>\n",
              "    <tr>\n",
              "      <th>141</th>\n",
              "      <td>豪华大床房房间大小一般，墙壁看起来很不舒服，都有掉落的斑驳痕迹，其他一般，在所有住过的经济型...</td>\n",
              "      <td>0</td>\n",
              "      <td>6919</td>\n",
              "      <td>1</td>\n",
              "    </tr>\n",
              "    <tr>\n",
              "      <th>92</th>\n",
              "      <td>房价较贵，位置也比较偏，房屋隔音效果较差。屋外说话，里面的清清楚楚。不是每间房间都有宽带，我...</td>\n",
              "      <td>0</td>\n",
              "      <td>5417</td>\n",
              "      <td>1</td>\n",
              "    </tr>\n",
              "    <tr>\n",
              "      <th>28</th>\n",
              "      <td>房间整洁，空间狭小，椅子和床之间太近了，坐在桌前不舒服，电视为吊挂式，只能躺在床上看，而且必...</td>\n",
              "      <td>0</td>\n",
              "      <td>6467</td>\n",
              "      <td>1</td>\n",
              "    </tr>\n",
              "    <tr>\n",
              "      <th>111</th>\n",
              "      <td>优点：地处繁华，服务员很友好。缺点：因为靠马路，晚上很吵，一夜没睡好。第二天中午回到房间，发...</td>\n",
              "      <td>0</td>\n",
              "      <td>5766</td>\n",
              "      <td>1</td>\n",
              "    </tr>\n",
              "    <tr>\n",
              "      <th>113</th>\n",
              "      <td>很一般的酒店，紧临马路，虽然有双层窗，但还有些吵。平时价格应低于200元，节日价格380元属...</td>\n",
              "      <td>0</td>\n",
              "      <td>7433</td>\n",
              "      <td>1</td>\n",
              "    </tr>\n",
              "    <tr>\n",
              "      <th>115</th>\n",
              "      <td>都有。这个有点虚假宣传。3、热水器因为水压的问题，冷热不定。不冻死你算你运气。4、洗澡间没有...</td>\n",
              "      <td>0</td>\n",
              "      <td>5499</td>\n",
              "      <td>1</td>\n",
              "    </tr>\n",
              "    <tr>\n",
              "      <th>27</th>\n",
              "      <td>房间还可以，比较大，但是临近马路，早上被车辆声音吵醒了，还有就是桑拿浴室不好，洗了一次澡，我...</td>\n",
              "      <td>0</td>\n",
              "      <td>5340</td>\n",
              "      <td>1</td>\n",
              "    </tr>\n",
              "    <tr>\n",
              "      <th>71</th>\n",
              "      <td>地理位置还不错，到哪里都比较方便，但是服务不象是豪生集团管理的，比较差。下午睡了一觉并洗了一...</td>\n",
              "      <td>0</td>\n",
              "      <td>5324</td>\n",
              "      <td>1</td>\n",
              "    </tr>\n",
              "    <tr>\n",
              "      <th>77</th>\n",
              "      <td>开始住的那个房间初看感觉不错，但空调坏的,一晚没用,卫生间淋浴房洗澡时往外漏水.后来换了一个...</td>\n",
              "      <td>0</td>\n",
              "      <td>6638</td>\n",
              "      <td>1</td>\n",
              "    </tr>\n",
              "    <tr>\n",
              "      <th>127</th>\n",
              "      <td>房间外声音太大，比较吵闹！直接到前台预定费用更合理。</td>\n",
              "      <td>0</td>\n",
              "      <td>5769</td>\n",
              "      <td>1</td>\n",
              "    </tr>\n",
              "  </tbody>\n",
              "</table>\n",
              "</div>"
            ],
            "text/plain": [
              "                                                  text  label   idx  predicted\n",
              "141  豪华大床房房间大小一般，墙壁看起来很不舒服，都有掉落的斑驳痕迹，其他一般，在所有住过的经济型...      0  6919          1\n",
              "92   房价较贵，位置也比较偏，房屋隔音效果较差。屋外说话，里面的清清楚楚。不是每间房间都有宽带，我...      0  5417          1\n",
              "28   房间整洁，空间狭小，椅子和床之间太近了，坐在桌前不舒服，电视为吊挂式，只能躺在床上看，而且必...      0  6467          1\n",
              "111  优点：地处繁华，服务员很友好。缺点：因为靠马路，晚上很吵，一夜没睡好。第二天中午回到房间，发...      0  5766          1\n",
              "113  很一般的酒店，紧临马路，虽然有双层窗，但还有些吵。平时价格应低于200元，节日价格380元属...      0  7433          1\n",
              "115  都有。这个有点虚假宣传。3、热水器因为水压的问题，冷热不定。不冻死你算你运气。4、洗澡间没有...      0  5499          1\n",
              "27   房间还可以，比较大，但是临近马路，早上被车辆声音吵醒了，还有就是桑拿浴室不好，洗了一次澡，我...      0  5340          1\n",
              "71   地理位置还不错，到哪里都比较方便，但是服务不象是豪生集团管理的，比较差。下午睡了一觉并洗了一...      0  5324          1\n",
              "77   开始住的那个房间初看感觉不错，但空调坏的,一晚没用,卫生间淋浴房洗澡时往外漏水.后来换了一个...      0  6638          1\n",
              "127                         房间外声音太大，比较吵闹！直接到前台预定费用更合理。      0  5769          1"
            ]
          },
          "metadata": {
            "tags": []
          },
          "execution_count": 68
        }
      ]
    },
    {
      "cell_type": "markdown",
      "metadata": {
        "id": "MtCRc1HLj7YQ",
        "colab_type": "text"
      },
      "source": [
        "# 按照 原文idx 合併結果\n",
        "透過idx取預測值的平均"
      ]
    },
    {
      "cell_type": "code",
      "metadata": {
        "id": "cnB6BDWhf1pv",
        "colab_type": "code",
        "outputId": "8ef95a7e-beab-44f3-d5ff-ea0176f8d4ca",
        "colab": {
          "base_uri": "https://localhost:8080/",
          "height": 119
        }
      },
      "source": [
        "valid_df.groupby(['idx']).agg('mean').predicted.value_counts()"
      ],
      "execution_count": 0,
      "outputs": [
        {
          "output_type": "execute_result",
          "data": {
            "text/plain": [
              "1.000000    1094\n",
              "0.000000     609\n",
              "0.500000      11\n",
              "0.333333       1\n",
              "0.666667       1\n",
              "Name: predicted, dtype: int64"
            ]
          },
          "metadata": {
            "tags": []
          },
          "execution_count": 69
        }
      ]
    },
    {
      "cell_type": "code",
      "metadata": {
        "id": "wkPUv4bRklrZ",
        "colab_type": "code",
        "outputId": "b9538a88-b910-4290-dc2f-1712e534cfc3",
        "colab": {
          "base_uri": "https://localhost:8080/",
          "height": 452
        }
      },
      "source": [
        "z = valid_df.groupby(['idx']).agg('mean').reset_index()\n",
        "z[(z.predicted >0) & (z.predicted<1)]"
      ],
      "execution_count": 0,
      "outputs": [
        {
          "output_type": "execute_result",
          "data": {
            "text/html": [
              "<div>\n",
              "<style scoped>\n",
              "    .dataframe tbody tr th:only-of-type {\n",
              "        vertical-align: middle;\n",
              "    }\n",
              "\n",
              "    .dataframe tbody tr th {\n",
              "        vertical-align: top;\n",
              "    }\n",
              "\n",
              "    .dataframe thead th {\n",
              "        text-align: right;\n",
              "    }\n",
              "</style>\n",
              "<table border=\"1\" class=\"dataframe\">\n",
              "  <thead>\n",
              "    <tr style=\"text-align: right;\">\n",
              "      <th></th>\n",
              "      <th>idx</th>\n",
              "      <th>label</th>\n",
              "      <th>predicted</th>\n",
              "    </tr>\n",
              "  </thead>\n",
              "  <tbody>\n",
              "    <tr>\n",
              "      <th>9</th>\n",
              "      <td>62</td>\n",
              "      <td>1.0</td>\n",
              "      <td>0.500000</td>\n",
              "    </tr>\n",
              "    <tr>\n",
              "      <th>248</th>\n",
              "      <td>1143</td>\n",
              "      <td>1.0</td>\n",
              "      <td>0.333333</td>\n",
              "    </tr>\n",
              "    <tr>\n",
              "      <th>315</th>\n",
              "      <td>1473</td>\n",
              "      <td>1.0</td>\n",
              "      <td>0.500000</td>\n",
              "    </tr>\n",
              "    <tr>\n",
              "      <th>367</th>\n",
              "      <td>1685</td>\n",
              "      <td>1.0</td>\n",
              "      <td>0.666667</td>\n",
              "    </tr>\n",
              "    <tr>\n",
              "      <th>446</th>\n",
              "      <td>2078</td>\n",
              "      <td>1.0</td>\n",
              "      <td>0.500000</td>\n",
              "    </tr>\n",
              "    <tr>\n",
              "      <th>540</th>\n",
              "      <td>2483</td>\n",
              "      <td>1.0</td>\n",
              "      <td>0.500000</td>\n",
              "    </tr>\n",
              "    <tr>\n",
              "      <th>694</th>\n",
              "      <td>3207</td>\n",
              "      <td>1.0</td>\n",
              "      <td>0.500000</td>\n",
              "    </tr>\n",
              "    <tr>\n",
              "      <th>831</th>\n",
              "      <td>3878</td>\n",
              "      <td>1.0</td>\n",
              "      <td>0.500000</td>\n",
              "    </tr>\n",
              "    <tr>\n",
              "      <th>1209</th>\n",
              "      <td>5652</td>\n",
              "      <td>0.0</td>\n",
              "      <td>0.500000</td>\n",
              "    </tr>\n",
              "    <tr>\n",
              "      <th>1214</th>\n",
              "      <td>5663</td>\n",
              "      <td>0.0</td>\n",
              "      <td>0.500000</td>\n",
              "    </tr>\n",
              "    <tr>\n",
              "      <th>1349</th>\n",
              "      <td>6218</td>\n",
              "      <td>0.0</td>\n",
              "      <td>0.500000</td>\n",
              "    </tr>\n",
              "    <tr>\n",
              "      <th>1510</th>\n",
              "      <td>6919</td>\n",
              "      <td>0.0</td>\n",
              "      <td>0.500000</td>\n",
              "    </tr>\n",
              "    <tr>\n",
              "      <th>1550</th>\n",
              "      <td>7105</td>\n",
              "      <td>0.0</td>\n",
              "      <td>0.500000</td>\n",
              "    </tr>\n",
              "  </tbody>\n",
              "</table>\n",
              "</div>"
            ],
            "text/plain": [
              "       idx  label  predicted\n",
              "9       62    1.0   0.500000\n",
              "248   1143    1.0   0.333333\n",
              "315   1473    1.0   0.500000\n",
              "367   1685    1.0   0.666667\n",
              "446   2078    1.0   0.500000\n",
              "540   2483    1.0   0.500000\n",
              "694   3207    1.0   0.500000\n",
              "831   3878    1.0   0.500000\n",
              "1209  5652    0.0   0.500000\n",
              "1214  5663    0.0   0.500000\n",
              "1349  6218    0.0   0.500000\n",
              "1510  6919    0.0   0.500000\n",
              "1550  7105    0.0   0.500000"
            ]
          },
          "metadata": {
            "tags": []
          },
          "execution_count": 84
        }
      ]
    },
    {
      "cell_type": "markdown",
      "metadata": {
        "id": "egUro1VeolNI",
        "colab_type": "text"
      },
      "source": [
        "# 預測值平均為0.33的案例\n",
        "(為方便閱讀 用逗號斷行)"
      ]
    },
    {
      "cell_type": "code",
      "metadata": {
        "id": "TeSdOX0Fl1RP",
        "colab_type": "code",
        "outputId": "46e4ae28-c1b0-4508-c412-4f91d44c0576",
        "colab": {
          "base_uri": "https://localhost:8080/",
          "height": 836
        }
      },
      "source": [
        "print('\\n'.join(raw_df.review[1143].split('，')))"
      ],
      "execution_count": 0,
      "outputs": [
        {
          "output_type": "stream",
          "text": [
            "注意啦！！这个酒店只有6、7楼重新装修过（地毯是深灰色）。其他都是旧装修。我们出住时\n",
            "提出要看房间\n",
            "前台安排我们看了6楼。是不错的装修。地毯是新的。没有什么异味。但5楼是该酒店的KTV\n",
            "很吵。但5楼的房里能听到楼下唱歌及微微的震动。所以我决定不选五楼。我问服务员\n",
            "这房间是新装修的吗？因为看到洗手间的配置很新。他回答我不是\n",
            "全酒店都一样。回到前台\n",
            "他们给我安排了13楼。心想不错嘛。结果与朋友拖着行李到了13楼\n",
            "电梯一开\n",
            "已看到是旧地毯\n",
            "污积斑斑。进了房间\n",
            "一鼓酸臭味！洗手间也不是5楼的配置。。。差异太大了。结果\n",
            "\n",
            "我们做了有史以来最经典的事。。。因错按了一层号码\n",
            "电梯门一开\n",
            "发现也是旧装修（旧地毯\n",
            "浅色大花）补充点评2007年10月10日：结果\n",
            "我们决定每一层都看一下地毯来决定来入住哪一层\n",
            "因我10.1期间自驾车去玩\n",
            "共入住过6晚不同的酒店\n",
            "前一天入住[杭州]杭州最佳西方梅苑宾馆\n",
            "就是因为只相信了CTRIP的网评\n",
            "在没有看房间的情况下入住了\n",
            "房间感觉很不好\n",
            "根本与四星不相配\n",
            "所以这次一定要选好一点。我们坐电梯每一层都看了一眼地毯（当时已晚上10点\n",
            "没有什么客人来往\n",
            "所以我们不会打扰到其他人用电梯\n",
            "而且有4台电梯的）发现只有7楼是新地毯\n",
            "还是11楼及15楼是比较干净的旧款地毯（主要是霉气味不太重。来到前台要求换房\n",
            "转7楼或11楼。前台也不说什么\n",
            "同意换。但告之：7楼已客满。11楼是行政楼层\n",
            "要加100元。最后\n",
            "我们选了15楼。。要求非吸烟房。前台同意。进房\n",
            "\n",
            "还是有点霉气味\n",
            "但比11楼小。最好笑就是看到服务员从房间里拿走烟灰缸\n",
            "\n",
            "哈哈！！！这就是非吸烟房！！服务员给我们打开窗户\n",
            "说吹一下风\n",
            "味道就没有了。天呀！！四星酒店！！！真是只有6楼的配置比较合符四星。。但5楼的噪音又将此优势给去掉了。。。但酒店对面另一家“皇冠”酒店也是四星的。比它更不好\n",
            "所以\n",
            "还是住下了。。这间酒店是唯一一间要退房时\n",
            "查有没有东西要赔\n",
            "之类的。。我前几天住三星的酒店都没有这个要求！还有\n",
            "房价是298\n",
            "我订了两个房共一晚\n",
            "酒店要求压金2000元！\n"
          ],
          "name": "stdout"
        }
      ]
    },
    {
      "cell_type": "code",
      "metadata": {
        "id": "YEx9zF7imTa8",
        "colab_type": "code",
        "colab": {}
      },
      "source": [
        ""
      ],
      "execution_count": 0,
      "outputs": []
    }
  ]
}